{
 "cells": [
  {
   "cell_type": "code",
   "execution_count": 2,
   "metadata": {},
   "outputs": [
    {
     "name": "stdout",
     "output_type": "stream",
     "text": [
      "Python 3.13.2\n"
     ]
    }
   ],
   "source": [
    "!python --version"
   ]
  },
  {
   "cell_type": "code",
   "execution_count": 84,
   "metadata": {},
   "outputs": [
    {
     "name": "stdout",
     "output_type": "stream",
     "text": [
      "https://github.com/Paradorn-248/Computer-Programming/blob/master/Data%20Structure%20and%20Algorithmic%20Thinking%20with%20Python%20%20Data%20Structure%20and%20Algorithmic%20Puzzles%20(%20PDFDrive%20).pdf\n",
      "72.0\n"
     ]
    }
   ],
   "source": [
    "# !pip install toml\n",
    "import tomllib\n",
    "\n",
    "with open(\"information.toml\",\"rb\") as f:\n",
    "    data = tomllib.load(f)\n",
    "    print(data['owner']['book_link'])\n",
    "    print(data[\"author\"][\"temp_targets\"]['case'])"
   ]
  },
  {
   "cell_type": "code",
   "execution_count": 81,
   "metadata": {},
   "outputs": [
    {
     "name": "stdout",
     "output_type": "stream",
     "text": [
      "{'owner': {'name': 'Karumanchi', 'book_link': 'https://github.com/Paradorn-248/Computer-Programming/blob/master/Data%20Structure%20and%20Algorithmic%20Thinking%20with%20Python%20%20Data%20Structure%20and%20Algorithmic%20Puzzles%20(%20PDFDrive%20).pdf'}, 'author': {'name': 'nitesh kumar', 'org': 'ABC'}}\n"
     ]
    }
   ],
   "source": [
    "import toml\n",
    "\n",
    "data = toml.load(\"information.toml\")  # Read the file\n",
    "print(data)  # Print the parsed TOML content"
   ]
  },
  {
   "cell_type": "code",
   "execution_count": null,
   "metadata": {},
   "outputs": [],
   "source": [
    "# best case-> nlogn\n",
    "# worst case -> n^2"
   ]
  },
  {
   "cell_type": "code",
   "execution_count": 32,
   "metadata": {},
   "outputs": [],
   "source": [
    "A=[534,249,933,123,244,321,454,-34,3,5]"
   ]
  },
  {
   "cell_type": "code",
   "execution_count": null,
   "metadata": {},
   "outputs": [],
   "source": [
    "# Bubble sort\n",
    "from typing import List\n",
    "\n",
    "def BuubleSort(inp: List[int]) -> List[int]:\n",
    "    \n",
    "    lt = len(inp)\n",
    "    for i in range(lt):\n",
    "        for k in range(lt-1, i, -1):\n",
    "            if inp[k] < inp[k-1]:\n",
    "                inp[k-1], inp[k] = inp[k], inp[k-1]\n",
    "                # swap(inp,k,k-1)\n",
    "    return inp\n",
    "                \n",
    "def swap(inp: List[int], x: int, y: int) -> None:\n",
    "    temp = inp[x]\n",
    "    inp[x] = inp[y]\n",
    "    inp[y] = temp"
   ]
  },
  {
   "cell_type": "code",
   "execution_count": 30,
   "metadata": {},
   "outputs": [
    {
     "name": "stdout",
     "output_type": "stream",
     "text": [
      "[-34, 3, 5, 123, 244, 249, 321, 454, 534, 933]\n"
     ]
    }
   ],
   "source": [
    "print(BuubleSort(A))\n",
    "# A"
   ]
  },
  {
   "cell_type": "code",
   "execution_count": 59,
   "metadata": {},
   "outputs": [
    {
     "name": "stdout",
     "output_type": "stream",
     "text": [
      "CPU times: total: 0 ns\n",
      "Wall time: 5.48 μs\n"
     ]
    }
   ],
   "source": [
    "%time\n",
    "# Selection Sort\n",
    "from copy import deepcopy\n",
    "from typing import List\n",
    "def SelectionSort(req:List[int])->List[int]:\n",
    "    inp = deepcopy(req)\n",
    "    lt = len(inp)\n",
    "    for i in range(lt):\n",
    "        least = i\n",
    "        for k in range(i+1,lt):\n",
    "            if inp[least] > inp[k]:\n",
    "                least = k\n",
    "        inp[least],inp[i]=inp[i],inp[least]\n",
    "        # swap(inp,least,i)\n",
    "    return inp\n",
    "            \n",
    "    \n",
    "    \n"
   ]
  },
  {
   "cell_type": "code",
   "execution_count": 60,
   "metadata": {},
   "outputs": [
    {
     "name": "stdout",
     "output_type": "stream",
     "text": [
      "CPU times: total: 0 ns\n",
      "Wall time: 5.48 μs\n",
      "[-34, 3, 5, 123, 244, 249, 321, 454, 534, 933]\n"
     ]
    }
   ],
   "source": [
    "%time\n",
    "print(SelectionSort(A))"
   ]
  },
  {
   "cell_type": "code",
   "execution_count": 55,
   "metadata": {},
   "outputs": [
    {
     "data": {
      "text/plain": [
       "[534, 249, 933, 123, 244, 321, 454, -34, 3, 5]"
      ]
     },
     "execution_count": 55,
     "metadata": {},
     "output_type": "execute_result"
    }
   ],
   "source": [
    "A"
   ]
  },
  {
   "cell_type": "code",
   "execution_count": 73,
   "metadata": {},
   "outputs": [],
   "source": [
    "# Insertion Sort\n",
    "from copy import deepcopy\n",
    "from typing import List\n",
    "\n",
    "def InsertionSort(inp:List[int])->List[int]:\n",
    "    req = deepcopy(inp)\n",
    "    lt = len(req)\n",
    "    for i in range(lt):\n",
    "        temp = req[i]\n",
    "        k = i\n",
    "        print(req)\n",
    "        print(f'i-{i} k-{k} temp - {temp} req[k-1]-{req[k-1]}')\n",
    "        while k > 0 and temp < req[k-1]:\n",
    "            req[k] = req[k-1]\n",
    "            k -= 1\n",
    "        req[k] = temp\n",
    "    return req"
   ]
  },
  {
   "cell_type": "code",
   "execution_count": 74,
   "metadata": {},
   "outputs": [
    {
     "name": "stdout",
     "output_type": "stream",
     "text": [
      "[-34, 123, 249, 534, 933, 244, 321, 454, 3, 5]\n",
      "i-0 k-0 temp - -34 req[k-1]-5\n",
      "[-34, 123, 249, 534, 933, 244, 321, 454, 3, 5]\n",
      "i-1 k-1 temp - 123 req[k-1]--34\n",
      "[-34, 123, 249, 534, 933, 244, 321, 454, 3, 5]\n",
      "i-2 k-2 temp - 249 req[k-1]-123\n",
      "[-34, 123, 249, 534, 933, 244, 321, 454, 3, 5]\n",
      "i-3 k-3 temp - 534 req[k-1]-249\n",
      "[-34, 123, 249, 534, 933, 244, 321, 454, 3, 5]\n",
      "i-4 k-4 temp - 933 req[k-1]-534\n",
      "[-34, 123, 249, 534, 933, 244, 321, 454, 3, 5]\n",
      "i-5 k-5 temp - 244 req[k-1]-933\n",
      "[-34, 123, 244, 249, 534, 933, 321, 454, 3, 5]\n",
      "i-6 k-6 temp - 321 req[k-1]-933\n",
      "[-34, 123, 244, 249, 321, 534, 933, 454, 3, 5]\n",
      "i-7 k-7 temp - 454 req[k-1]-933\n",
      "[-34, 123, 244, 249, 321, 454, 534, 933, 3, 5]\n",
      "i-8 k-8 temp - 3 req[k-1]-933\n",
      "[-34, 3, 123, 244, 249, 321, 454, 534, 933, 5]\n",
      "i-9 k-9 temp - 5 req[k-1]-933\n",
      "[-34, 3, 5, 123, 244, 249, 321, 454, 534, 933]\n"
     ]
    }
   ],
   "source": [
    "# %time\n",
    "print(InsertionSort(A))"
   ]
  },
  {
   "cell_type": "code",
   "execution_count": null,
   "metadata": {},
   "outputs": [],
   "source": []
  }
 ],
 "metadata": {
  "kernelspec": {
   "display_name": "env312",
   "language": "python",
   "name": "python3"
  },
  "language_info": {
   "codemirror_mode": {
    "name": "ipython",
    "version": 3
   },
   "file_extension": ".py",
   "mimetype": "text/x-python",
   "name": "python",
   "nbconvert_exporter": "python",
   "pygments_lexer": "ipython3",
   "version": "3.13.2"
  }
 },
 "nbformat": 4,
 "nbformat_minor": 2
}
