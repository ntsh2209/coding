{
 "cells": [
  {
   "cell_type": "code",
   "execution_count": 2,
   "metadata": {},
   "outputs": [
    {
     "name": "stdout",
     "output_type": "stream",
     "text": [
      "Python 3.13.2\n"
     ]
    }
   ],
   "source": [
    "!python --version"
   ]
  },
  {
   "cell_type": "code",
   "execution_count": 84,
   "metadata": {},
   "outputs": [
    {
     "name": "stdout",
     "output_type": "stream",
     "text": [
      "https://github.com/Paradorn-248/Computer-Programming/blob/master/Data%20Structure%20and%20Algorithmic%20Thinking%20with%20Python%20%20Data%20Structure%20and%20Algorithmic%20Puzzles%20(%20PDFDrive%20).pdf\n",
      "72.0\n"
     ]
    }
   ],
   "source": [
    "# !pip install toml\n",
    "import tomllib\n",
    "\n",
    "with open(\"information.toml\",\"rb\") as f:\n",
    "    data = tomllib.load(f)\n",
    "    print(data['owner']['book_link'])\n",
    "    print(data[\"author\"][\"temp_targets\"]['case'])"
   ]
  },
  {
   "cell_type": "code",
   "execution_count": 81,
   "metadata": {},
   "outputs": [
    {
     "name": "stdout",
     "output_type": "stream",
     "text": [
      "{'owner': {'name': 'Karumanchi', 'book_link': 'https://github.com/Paradorn-248/Computer-Programming/blob/master/Data%20Structure%20and%20Algorithmic%20Thinking%20with%20Python%20%20Data%20Structure%20and%20Algorithmic%20Puzzles%20(%20PDFDrive%20).pdf'}, 'author': {'name': 'nitesh kumar', 'org': 'ABC'}}\n"
     ]
    }
   ],
   "source": [
    "import toml\n",
    "\n",
    "data = toml.load(\"information.toml\")  # Read the file\n",
    "print(data)  # Print the parsed TOML content"
   ]
  },
  {
   "cell_type": "code",
   "execution_count": null,
   "metadata": {},
   "outputs": [],
   "source": [
    "# best case-> nlogn\n",
    "# worst case -> n^2"
   ]
  },
  {
   "cell_type": "code",
   "execution_count": 32,
   "metadata": {},
   "outputs": [],
   "source": [
    "A=[534,249,933,123,244,321,454,-34,3,5]"
   ]
  },
  {
   "cell_type": "code",
   "execution_count": null,
   "metadata": {},
   "outputs": [],
   "source": [
    "# Bubble sort\n",
    "from typing import List\n",
    "\n",
    "def BuubleSort(inp: List[int]) -> List[int]:\n",
    "    \n",
    "    lt = len(inp)\n",
    "    for i in range(lt):\n",
    "        for k in range(lt-1, i, -1):\n",
    "            if inp[k] < inp[k-1]:\n",
    "                inp[k-1], inp[k] = inp[k], inp[k-1]\n",
    "                # swap(inp,k,k-1)\n",
    "    return inp\n",
    "                \n",
    "def swap(inp: List[int], x: int, y: int) -> None:\n",
    "    temp = inp[x]\n",
    "    inp[x] = inp[y]\n",
    "    inp[y] = temp"
   ]
  },
  {
   "cell_type": "code",
   "execution_count": 30,
   "metadata": {},
   "outputs": [
    {
     "name": "stdout",
     "output_type": "stream",
     "text": [
      "[-34, 3, 5, 123, 244, 249, 321, 454, 534, 933]\n"
     ]
    }
   ],
   "source": [
    "print(BuubleSort(A))\n",
    "# A"
   ]
  },
  {
   "cell_type": "code",
   "execution_count": 59,
   "metadata": {},
   "outputs": [
    {
     "name": "stdout",
     "output_type": "stream",
     "text": [
      "CPU times: total: 0 ns\n",
      "Wall time: 5.48 μs\n"
     ]
    }
   ],
   "source": [
    "%time\n",
    "# Selection Sort\n",
    "from copy import deepcopy\n",
    "from typing import List\n",
    "def SelectionSort(req:List[int])->List[int]:\n",
    "    inp = deepcopy(req)\n",
    "    lt = len(inp)\n",
    "    for i in range(lt):\n",
    "        least = i\n",
    "        for k in range(i+1,lt):\n",
    "            if inp[least] > inp[k]:\n",
    "                least = k\n",
    "        inp[least],inp[i]=inp[i],inp[least]\n",
    "        # swap(inp,least,i)\n",
    "    return inp\n",
    "            \n",
    "    \n",
    "    \n"
   ]
  },
  {
   "cell_type": "code",
   "execution_count": 60,
   "metadata": {},
   "outputs": [
    {
     "name": "stdout",
     "output_type": "stream",
     "text": [
      "CPU times: total: 0 ns\n",
      "Wall time: 5.48 μs\n",
      "[-34, 3, 5, 123, 244, 249, 321, 454, 534, 933]\n"
     ]
    }
   ],
   "source": [
    "%time\n",
    "print(SelectionSort(A))"
   ]
  },
  {
   "cell_type": "code",
   "execution_count": 55,
   "metadata": {},
   "outputs": [
    {
     "data": {
      "text/plain": [
       "[534, 249, 933, 123, 244, 321, 454, -34, 3, 5]"
      ]
     },
     "execution_count": 55,
     "metadata": {},
     "output_type": "execute_result"
    }
   ],
   "source": [
    "A"
   ]
  },
  {
   "cell_type": "code",
   "execution_count": 73,
   "metadata": {},
   "outputs": [],
   "source": [
    "# Insertion Sort\n",
    "from copy import deepcopy\n",
    "from typing import List\n",
    "\n",
    "def InsertionSort(inp:List[int])->List[int]:\n",
    "    req = deepcopy(inp)\n",
    "    lt = len(req)\n",
    "    for i in range(lt):\n",
    "        temp = req[i]\n",
    "        k = i\n",
    "        print(req)\n",
    "        print(f'i-{i} k-{k} temp - {temp} req[k-1]-{req[k-1]}')\n",
    "        while k > 0 and temp < req[k-1]:\n",
    "            req[k] = req[k-1]\n",
    "            k -= 1\n",
    "        req[k] = temp\n",
    "    return req"
   ]
  },
  {
   "cell_type": "code",
   "execution_count": 74,
   "metadata": {},
   "outputs": [
    {
     "name": "stdout",
     "output_type": "stream",
     "text": [
      "[-34, 123, 249, 534, 933, 244, 321, 454, 3, 5]\n",
      "i-0 k-0 temp - -34 req[k-1]-5\n",
      "[-34, 123, 249, 534, 933, 244, 321, 454, 3, 5]\n",
      "i-1 k-1 temp - 123 req[k-1]--34\n",
      "[-34, 123, 249, 534, 933, 244, 321, 454, 3, 5]\n",
      "i-2 k-2 temp - 249 req[k-1]-123\n",
      "[-34, 123, 249, 534, 933, 244, 321, 454, 3, 5]\n",
      "i-3 k-3 temp - 534 req[k-1]-249\n",
      "[-34, 123, 249, 534, 933, 244, 321, 454, 3, 5]\n",
      "i-4 k-4 temp - 933 req[k-1]-534\n",
      "[-34, 123, 249, 534, 933, 244, 321, 454, 3, 5]\n",
      "i-5 k-5 temp - 244 req[k-1]-933\n",
      "[-34, 123, 244, 249, 534, 933, 321, 454, 3, 5]\n",
      "i-6 k-6 temp - 321 req[k-1]-933\n",
      "[-34, 123, 244, 249, 321, 534, 933, 454, 3, 5]\n",
      "i-7 k-7 temp - 454 req[k-1]-933\n",
      "[-34, 123, 244, 249, 321, 454, 534, 933, 3, 5]\n",
      "i-8 k-8 temp - 3 req[k-1]-933\n",
      "[-34, 3, 123, 244, 249, 321, 454, 534, 933, 5]\n",
      "i-9 k-9 temp - 5 req[k-1]-933\n",
      "[-34, 3, 5, 123, 244, 249, 321, 454, 534, 933]\n"
     ]
    }
   ],
   "source": [
    "# %time\n",
    "print(InsertionSort(A))"
   ]
  },
  {
   "cell_type": "code",
   "execution_count": 85,
   "metadata": {},
   "outputs": [],
   "source": [
    "# merge sort"
   ]
  },
  {
   "cell_type": "code",
   "execution_count": 86,
   "metadata": {},
   "outputs": [],
   "source": [
    "from typing import List\n",
    "from copy import deepcopy\n",
    "def MergeSort(A:List[int])->List[int]:\n",
    "    if len(A) > 1:\n",
    "        mid = len(A)//2\n",
    "        lefthalf= A[:mid]\n",
    "        righthalf = A[mid:]\n",
    "        MergeSort(lefthalf)\n",
    "        MergeSort(righthalf)\n",
    "        \n",
    "        i = j = k =0\n",
    "        while i <len(lefthalf) and j<len(righthalf):\n",
    "            if lefthalf[i] < righthalf [j]:\n",
    "                A[k] = lefthalf[i]\n",
    "                i+=1\n",
    "            else:\n",
    "                A[k] = righthalf[j]\n",
    "                j+=1\n",
    "            k+=1\n",
    "        while i < len(lefthalf):\n",
    "            A[k]=lefthalf[i]\n",
    "            i+=1\n",
    "            k+=1\n",
    "        \n",
    "        while j < len(righthalf):\n",
    "            A[k]=righthalf[j]\n",
    "            j+=1\n",
    "            k+=1\n",
    "            "
   ]
  },
  {
   "cell_type": "code",
   "execution_count": 88,
   "metadata": {},
   "outputs": [],
   "source": [
    "B=deepcopy(A)"
   ]
  },
  {
   "cell_type": "code",
   "execution_count": 89,
   "metadata": {},
   "outputs": [],
   "source": [
    "MergeSort(B)"
   ]
  },
  {
   "cell_type": "code",
   "execution_count": 91,
   "metadata": {},
   "outputs": [
    {
     "data": {
      "text/plain": [
       "[-34, 123, 249, 534, 933, 244, 321, 454, 3, 5]"
      ]
     },
     "execution_count": 91,
     "metadata": {},
     "output_type": "execute_result"
    }
   ],
   "source": [
    "A"
   ]
  },
  {
   "cell_type": "code",
   "execution_count": 90,
   "metadata": {},
   "outputs": [
    {
     "data": {
      "text/plain": [
       "[-34, 3, 5, 123, 244, 249, 321, 454, 534, 933]"
      ]
     },
     "execution_count": 90,
     "metadata": {},
     "output_type": "execute_result"
    }
   ],
   "source": [
    "B"
   ]
  },
  {
   "cell_type": "code",
   "execution_count": 92,
   "metadata": {},
   "outputs": [
    {
     "name": "stderr",
     "output_type": "stream",
     "text": [
      "19:46:58 - setting done\n"
     ]
    }
   ],
   "source": [
    "import logging\n",
    "\n",
    "logging.basicConfig(\n",
    "    format='%(asctime)s - %(message)s',\n",
    "    datefmt='%H:%M:%S',\n",
    "    level=logging.INFO\n",
    ")\n",
    "logging.info(\"setting done\")"
   ]
  },
  {
   "cell_type": "code",
   "execution_count": 100,
   "metadata": {},
   "outputs": [],
   "source": [
    "# Quick Sort\n",
    "\n",
    "import random\n",
    "\n",
    "def QuickSort(A, low , high):\n",
    "    if low < high:\n",
    "        pivot = Partition(A, low, high)\n",
    "        QuickSort(A, low, pivot -1)\n",
    "        QuickSort(A, pivot+1,high)\n",
    "\n",
    "def Partition(A, low ,high):\n",
    "    pivot = low\n",
    "    # A[pivot],A[high] = A[high], A[pivot]\n",
    "    swap(A,pivot,high)\n",
    "    for i in range(low, high):        \n",
    "        if A[i] <= A[high]:\n",
    "            # A[i],A[low]=A[low],A[i]\n",
    "            swap(A,low,high)\n",
    "            low+=1\n",
    "        # A[low],A[high]=A[high],A[low]\n",
    "    swap(A,low,high)\n",
    "    return low"
   ]
  },
  {
   "cell_type": "code",
   "execution_count": 105,
   "metadata": {},
   "outputs": [
    {
     "data": {
      "text/plain": [
       "[-34, 123, 249, 534, 933, 244, 321, 454, 3, 5]"
      ]
     },
     "execution_count": 105,
     "metadata": {},
     "output_type": "execute_result"
    }
   ],
   "source": [
    "C = deepcopy(A)\n",
    "C\n"
   ]
  },
  {
   "cell_type": "code",
   "execution_count": 106,
   "metadata": {},
   "outputs": [
    {
     "data": {
      "text/plain": [
       "[-34, 123, 5, 249, 933, 244, 534, 321, 3, 454]"
      ]
     },
     "execution_count": 106,
     "metadata": {},
     "output_type": "execute_result"
    }
   ],
   "source": [
    "QuickSort(C,0,len(A)-1)\n",
    "C"
   ]
  },
  {
   "cell_type": "code",
   "execution_count": 108,
   "metadata": {},
   "outputs": [],
   "source": [
    "# Counting sort\n",
    "\n",
    "import random\n",
    "def CountingSort(A,k):\n",
    "    B = [0 for el in A]\n",
    "    C = [0 for el in range(0,k+1)]\n",
    "    for i in range(0,k+1):\n",
    "        C[i]=0\n",
    "    for j in range(0 , len(A)):\n",
    "        C[A[j]]+=1\n",
    "    for i in range(1,k+1):\n",
    "        C[i]+=C[i-1]\n",
    "    for j in range(len(A)-1,0-1,-1):\n",
    "        tmp = A[j]\n",
    "        tmp2 = C[tmp] -1\n",
    "        B[tmp2] = tmp\n",
    "        C[tmp]-=1\n",
    "    return B\n",
    "    \n",
    "    "
   ]
  },
  {
   "cell_type": "code",
   "execution_count": 109,
   "metadata": {},
   "outputs": [
    {
     "name": "stdout",
     "output_type": "stream",
     "text": [
      "[3, 5, 123, 244, 249, 321, 454, 534, 933, -34]\n"
     ]
    }
   ],
   "source": [
    "D = deepcopy(A)\n",
    "print(CountingSort(D,1000))"
   ]
  },
  {
   "cell_type": "code",
   "execution_count": 111,
   "metadata": {},
   "outputs": [],
   "source": [
    "A[0]= 34"
   ]
  },
  {
   "cell_type": "code",
   "execution_count": 132,
   "metadata": {},
   "outputs": [
    {
     "data": {
      "text/plain": [
       "[3, 5, 34, 123, 244, 249, 321, 454, 534, 933]"
      ]
     },
     "execution_count": 132,
     "metadata": {},
     "output_type": "execute_result"
    }
   ],
   "source": [
    "A"
   ]
  },
  {
   "cell_type": "code",
   "execution_count": 133,
   "metadata": {},
   "outputs": [],
   "source": [
    "# radix Sort\n",
    "def RadixSort(A):\n",
    "    RADIX = 10\n",
    "    maxLength = False\n",
    "    temp, placement = -1,1\n",
    "    while not maxLength:\n",
    "        maxLength = True\n",
    "        buckets = [list() for _ in range(RADIX)]\n",
    "        # logging.info(buckets)\n",
    "        for i in A:\n",
    "            temp= int(i/placement)\n",
    "            logging.info(f\"temp-{temp}\")\n",
    "            buckets[temp%RADIX].append(i)\n",
    "            logging.info(buckets)\n",
    "            if maxLength and temp >0:\n",
    "                maxLength = False\n",
    "        a = 0\n",
    "        for b in range(RADIX):\n",
    "            buck = buckets[b]\n",
    "            for i in buck:\n",
    "                A[a] = i\n",
    "                a+=1\n",
    "        placement *=RADIX\n",
    "        \n",
    "    \n",
    "    "
   ]
  },
  {
   "cell_type": "code",
   "execution_count": 134,
   "metadata": {},
   "outputs": [
    {
     "data": {
      "text/plain": [
       "4.0"
      ]
     },
     "execution_count": 134,
     "metadata": {},
     "output_type": "execute_result"
    }
   ],
   "source": [
    "(34/1)%10"
   ]
  },
  {
   "cell_type": "code",
   "execution_count": 135,
   "metadata": {},
   "outputs": [
    {
     "name": "stderr",
     "output_type": "stream",
     "text": [
      "20:45:09 - temp-3\n",
      "20:45:09 - [[], [], [], [3], [], [], [], [], [], []]\n",
      "20:45:09 - temp-5\n",
      "20:45:09 - [[], [], [], [3], [], [5], [], [], [], []]\n",
      "20:45:09 - temp-34\n",
      "20:45:09 - [[], [], [], [3], [34], [5], [], [], [], []]\n",
      "20:45:09 - temp-123\n",
      "20:45:09 - [[], [], [], [3, 123], [34], [5], [], [], [], []]\n",
      "20:45:09 - temp-244\n",
      "20:45:09 - [[], [], [], [3, 123], [34, 244], [5], [], [], [], []]\n",
      "20:45:09 - temp-249\n",
      "20:45:09 - [[], [], [], [3, 123], [34, 244], [5], [], [], [], [249]]\n",
      "20:45:09 - temp-321\n",
      "20:45:09 - [[], [321], [], [3, 123], [34, 244], [5], [], [], [], [249]]\n",
      "20:45:09 - temp-454\n",
      "20:45:09 - [[], [321], [], [3, 123], [34, 244, 454], [5], [], [], [], [249]]\n",
      "20:45:09 - temp-534\n",
      "20:45:09 - [[], [321], [], [3, 123], [34, 244, 454, 534], [5], [], [], [], [249]]\n",
      "20:45:09 - temp-933\n",
      "20:45:09 - [[], [321], [], [3, 123, 933], [34, 244, 454, 534], [5], [], [], [], [249]]\n",
      "20:45:09 - temp-32\n",
      "20:45:09 - [[], [], [321], [], [], [], [], [], [], []]\n",
      "20:45:09 - temp-0\n",
      "20:45:09 - [[3], [], [321], [], [], [], [], [], [], []]\n",
      "20:45:09 - temp-12\n",
      "20:45:09 - [[3], [], [321, 123], [], [], [], [], [], [], []]\n",
      "20:45:09 - temp-93\n",
      "20:45:09 - [[3], [], [321, 123], [933], [], [], [], [], [], []]\n",
      "20:45:09 - temp-3\n",
      "20:45:09 - [[3], [], [321, 123], [933, 34], [], [], [], [], [], []]\n",
      "20:45:09 - temp-24\n",
      "20:45:09 - [[3], [], [321, 123], [933, 34], [244], [], [], [], [], []]\n",
      "20:45:09 - temp-45\n",
      "20:45:09 - [[3], [], [321, 123], [933, 34], [244], [454], [], [], [], []]\n",
      "20:45:09 - temp-53\n",
      "20:45:09 - [[3], [], [321, 123], [933, 34, 534], [244], [454], [], [], [], []]\n",
      "20:45:09 - temp-0\n",
      "20:45:09 - [[3, 5], [], [321, 123], [933, 34, 534], [244], [454], [], [], [], []]\n",
      "20:45:09 - temp-24\n",
      "20:45:09 - [[3, 5], [], [321, 123], [933, 34, 534], [244, 249], [454], [], [], [], []]\n",
      "20:45:09 - temp-0\n",
      "20:45:09 - [[3], [], [], [], [], [], [], [], [], []]\n",
      "20:45:09 - temp-0\n",
      "20:45:09 - [[3, 5], [], [], [], [], [], [], [], [], []]\n",
      "20:45:09 - temp-3\n",
      "20:45:09 - [[3, 5], [], [], [321], [], [], [], [], [], []]\n",
      "20:45:09 - temp-1\n",
      "20:45:09 - [[3, 5], [123], [], [321], [], [], [], [], [], []]\n",
      "20:45:09 - temp-9\n",
      "20:45:09 - [[3, 5], [123], [], [321], [], [], [], [], [], [933]]\n",
      "20:45:09 - temp-0\n",
      "20:45:09 - [[3, 5, 34], [123], [], [321], [], [], [], [], [], [933]]\n",
      "20:45:09 - temp-5\n",
      "20:45:09 - [[3, 5, 34], [123], [], [321], [], [534], [], [], [], [933]]\n",
      "20:45:09 - temp-2\n",
      "20:45:09 - [[3, 5, 34], [123], [244], [321], [], [534], [], [], [], [933]]\n",
      "20:45:09 - temp-2\n",
      "20:45:09 - [[3, 5, 34], [123], [244, 249], [321], [], [534], [], [], [], [933]]\n",
      "20:45:09 - temp-4\n",
      "20:45:09 - [[3, 5, 34], [123], [244, 249], [321], [454], [534], [], [], [], [933]]\n",
      "20:45:09 - temp-0\n",
      "20:45:09 - [[3], [], [], [], [], [], [], [], [], []]\n",
      "20:45:09 - temp-0\n",
      "20:45:09 - [[3, 5], [], [], [], [], [], [], [], [], []]\n",
      "20:45:09 - temp-0\n",
      "20:45:09 - [[3, 5, 34], [], [], [], [], [], [], [], [], []]\n",
      "20:45:09 - temp-0\n",
      "20:45:09 - [[3, 5, 34, 123], [], [], [], [], [], [], [], [], []]\n",
      "20:45:09 - temp-0\n",
      "20:45:09 - [[3, 5, 34, 123, 244], [], [], [], [], [], [], [], [], []]\n",
      "20:45:09 - temp-0\n",
      "20:45:09 - [[3, 5, 34, 123, 244, 249], [], [], [], [], [], [], [], [], []]\n",
      "20:45:09 - temp-0\n",
      "20:45:09 - [[3, 5, 34, 123, 244, 249, 321], [], [], [], [], [], [], [], [], []]\n",
      "20:45:09 - temp-0\n",
      "20:45:09 - [[3, 5, 34, 123, 244, 249, 321, 454], [], [], [], [], [], [], [], [], []]\n",
      "20:45:09 - temp-0\n",
      "20:45:09 - [[3, 5, 34, 123, 244, 249, 321, 454, 534], [], [], [], [], [], [], [], [], []]\n",
      "20:45:09 - temp-0\n",
      "20:45:09 - [[3, 5, 34, 123, 244, 249, 321, 454, 534, 933], [], [], [], [], [], [], [], [], []]\n"
     ]
    }
   ],
   "source": [
    "RadixSort(A)"
   ]
  },
  {
   "cell_type": "code",
   "execution_count": 129,
   "metadata": {},
   "outputs": [
    {
     "data": {
      "text/plain": [
       "[3, 5, 34, 123, 244, 249, 321, 454, 534, 933]"
      ]
     },
     "execution_count": 129,
     "metadata": {},
     "output_type": "execute_result"
    }
   ],
   "source": [
    "A"
   ]
  },
  {
   "cell_type": "code",
   "execution_count": 137,
   "metadata": {},
   "outputs": [],
   "source": [
    "def CheckWhoWinsTheElection(A):\n",
    "    A.sort()\n",
    "    counter = maxCounter = 0\n",
    "    candidate = maxCandidate = 0\n",
    "    for i in range(0,len(A)):\n",
    "        if A[i] == candidate:\n",
    "            counter +=1\n",
    "        else:\n",
    "            counter = 1\n",
    "            candidate = A[i]\n",
    "        if(counter > maxCounter):\n",
    "            maxCandidate = A[i]\n",
    "            maxCounter = counter\n",
    "    print (maxCandidate, \"appeared\", maxCounter,\" times\")\n",
    "            \n",
    "            "
   ]
  },
  {
   "cell_type": "code",
   "execution_count": 138,
   "metadata": {},
   "outputs": [
    {
     "name": "stdout",
     "output_type": "stream",
     "text": [
      "2 appeared 6  times\n"
     ]
    }
   ],
   "source": [
    "a_in = [2,3,2,1,2,2,3,2,2]\n",
    "CheckWhoWinsTheElection(a_in)"
   ]
  },
  {
   "cell_type": "code",
   "execution_count": 139,
   "metadata": {},
   "outputs": [
    {
     "name": "stdout",
     "output_type": "stream",
     "text": [
      "[1, 2, 2, 2, 2, 2, 2, 3, 3]\n"
     ]
    }
   ],
   "source": [
    "a_in = [2,3,2,1,2,2,3,2,2]\n",
    "print(CountingSort(a_in,10))"
   ]
  },
  {
   "cell_type": "code",
   "execution_count": null,
   "metadata": {},
   "outputs": [],
   "source": [
    "CountingSort()"
   ]
  },
  {
   "cell_type": "code",
   "execution_count": 140,
   "metadata": {},
   "outputs": [
    {
     "name": "stderr",
     "output_type": "stream",
     "text": [
      "22:10:39 - 8\n",
      "22:10:39 - [1, 2, 2, 1, 0, 0, 0, 1]\n",
      "22:10:39 - [1, 3, 5, 6, 6, 6, 6, 7]\n",
      "22:10:39 - [1, 2, 2, 3, 3, 4, 8]\n"
     ]
    },
    {
     "name": "stdout",
     "output_type": "stream",
     "text": [
      "[1, 2, 2, 3, 3, 4, 8]\n"
     ]
    }
   ],
   "source": [
    "def counting_sort(arr):\n",
    "    if not arr:  # Handle empty array case\n",
    "        return []\n",
    "\n",
    "    # Find the range of the elements\n",
    "    min_val = min(arr)\n",
    "    max_val = max(arr)\n",
    "    range_of_elements = max_val - min_val + 1\n",
    "    logging.info(range_of_elements)\n",
    "\n",
    "    # Initialize the count array\n",
    "    count = [0] * range_of_elements\n",
    "    \n",
    "    # Store count of each element\n",
    "    for num in arr:\n",
    "        count[num - min_val] += 1\n",
    "    logging.info(count)\n",
    "    # Update count array to store actual positions\n",
    "    for i in range(1, len(count)):\n",
    "        count[i] += count[i - 1]\n",
    "    logging.info(count)\n",
    "    # Output array to store sorted elements\n",
    "    output = [0] * len(arr)\n",
    "\n",
    "    # Build the sorted array\n",
    "    for num in reversed(arr):  # To maintain stability\n",
    "        output[count[num - min_val] - 1] = num\n",
    "        count[num - min_val] -= 1\n",
    "    logging.info(output)\n",
    "    return output\n",
    "\n",
    "# Example usage:\n",
    "arr = [4, 2, 2, 8, 3, 3, 1]\n",
    "sorted_arr = counting_sort(arr)\n",
    "print(sorted_arr)\n"
   ]
  },
  {
   "cell_type": "code",
   "execution_count": null,
   "metadata": {},
   "outputs": [],
   "source": [
    "def Merge(A,m,B,n)"
   ]
  },
  {
   "cell_type": "code",
   "execution_count": null,
   "metadata": {},
   "outputs": [],
   "source": []
  },
  {
   "cell_type": "code",
   "execution_count": null,
   "metadata": {},
   "outputs": [],
   "source": []
  },
  {
   "cell_type": "code",
   "execution_count": null,
   "metadata": {},
   "outputs": [],
   "source": []
  }
 ],
 "metadata": {
  "kernelspec": {
   "display_name": "env312",
   "language": "python",
   "name": "python3"
  },
  "language_info": {
   "codemirror_mode": {
    "name": "ipython",
    "version": 3
   },
   "file_extension": ".py",
   "mimetype": "text/x-python",
   "name": "python",
   "nbconvert_exporter": "python",
   "pygments_lexer": "ipython3",
   "version": "3.13.2"
  }
 },
 "nbformat": 4,
 "nbformat_minor": 2
}
