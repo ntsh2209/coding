{
 "cells": [
  {
   "cell_type": "code",
   "execution_count": 81,
   "metadata": {},
   "outputs": [
    {
     "name": "stdout",
     "output_type": "stream",
     "text": [
      "Python 3.13.2\n"
     ]
    }
   ],
   "source": [
    "!python --version"
   ]
  },
  {
   "cell_type": "code",
   "execution_count": 82,
   "metadata": {},
   "outputs": [],
   "source": [
    "from typing import List"
   ]
  },
  {
   "cell_type": "code",
   "execution_count": 83,
   "metadata": {},
   "outputs": [],
   "source": [
    "def isAnagram(s,t):\n",
    "    s_dict={char:s.count(char)for char in set(s)}\n",
    "    t_dict={char:t.count(char)for char in set(t)}\n",
    "    print(s_dict)\n",
    "    print(t_dict)\n",
    "    for char,count in s_dict.items():\n",
    "        if char not in t_dict or s_dict[char]!=t_dict[char]:\n",
    "            return False\n",
    "        \n",
    "    return True\n",
    "    "
   ]
  },
  {
   "cell_type": "code",
   "execution_count": 84,
   "metadata": {},
   "outputs": [
    {
     "name": "stdout",
     "output_type": "stream",
     "text": [
      "{'j': 1, 'a': 1, 'r': 1}\n",
      "{'j': 1, 'a': 1, 'm': 1}\n"
     ]
    },
    {
     "data": {
      "text/plain": [
       "False"
      ]
     },
     "execution_count": 84,
     "metadata": {},
     "output_type": "execute_result"
    }
   ],
   "source": [
    "s = \"jar\"\n",
    "t = \"jam\"\n",
    "isAnagram(s,t)"
   ]
  },
  {
   "cell_type": "code",
   "execution_count": 85,
   "metadata": {},
   "outputs": [],
   "source": [
    "s_dict={char:s.count(char) for char in set(s)}\n",
    "# t_dict="
   ]
  },
  {
   "cell_type": "code",
   "execution_count": 86,
   "metadata": {},
   "outputs": [
    {
     "name": "stdout",
     "output_type": "stream",
     "text": [
      "1 \n",
      "\n",
      "1 \n",
      "\n",
      "1 \n",
      "\n"
     ]
    }
   ],
   "source": [
    "for char,count in s_dict.items():\n",
    "    print(s_dict[char],\"\\n\")"
   ]
  },
  {
   "cell_type": "code",
   "execution_count": 87,
   "metadata": {},
   "outputs": [
    {
     "data": {
      "text/plain": [
       "False"
      ]
     },
     "execution_count": 87,
     "metadata": {},
     "output_type": "execute_result"
    }
   ],
   "source": [
    "sorted(s)==sorted(t)"
   ]
  },
  {
   "cell_type": "code",
   "execution_count": 88,
   "metadata": {},
   "outputs": [],
   "source": [
    "nums = [3,4,5,6]\n",
    "target = 7\n",
    "nums=[4,5,6]\n",
    "target=10\n",
    "\n",
    "# output=[0,2]\n",
    "# nums=[5,5]\n",
    "# target=10\n",
    "# output=[0,1]\n"
   ]
  },
  {
   "cell_type": "code",
   "execution_count": 89,
   "metadata": {},
   "outputs": [],
   "source": [
    "from typing import List\n",
    "\n",
    "\n",
    "def two_sums(nums,target)->List[int]:\n",
    "    # print(nums)\n",
    "    dictn={}\n",
    "    for i,n in enumerate(nums):\n",
    "        # print(dictn)\n",
    "        diff=target-n\n",
    "        if diff in dictn:\n",
    "            return [dictn[diff],i]\n",
    "        dictn[n]=i\n",
    "    return []\n",
    "\n"
   ]
  },
  {
   "cell_type": "code",
   "execution_count": 90,
   "metadata": {},
   "outputs": [
    {
     "data": {
      "text/plain": [
       "[0, 2]"
      ]
     },
     "execution_count": 90,
     "metadata": {},
     "output_type": "execute_result"
    }
   ],
   "source": [
    "two_sums(nums,target)"
   ]
  },
  {
   "cell_type": "code",
   "execution_count": 91,
   "metadata": {},
   "outputs": [
    {
     "name": "stdout",
     "output_type": "stream",
     "text": [
      "4\n"
     ]
    }
   ],
   "source": [
    "def subarray_sum(nums, target): \n",
    "    prefix_sum = {0: 1}  # Stores cumulative sum frequencies \n",
    "    curr_sum, count = 0, 0 \n",
    "     \n",
    "    for num in nums: \n",
    "        curr_sum += num \n",
    "        count += prefix_sum.get(curr_sum - target, 0)  # Check for required prefix \n",
    "        prefix_sum[curr_sum] = prefix_sum.get(curr_sum, 0) + 1  # Update count \n",
    "     \n",
    "    return count \n",
    " \n",
    "print(subarray_sum([1, 2, 3, -2, 5], 3))  # 3 subarrays sum to 3"
   ]
  },
  {
   "cell_type": "code",
   "execution_count": 92,
   "metadata": {},
   "outputs": [],
   "source": [
    "# anagram\n",
    "strs = [\"act\",\"pots\",\"tops\",\"cat\",\"stop\",\"hat\"]\n",
    "\n",
    "output= [[\"hat\"],[\"act\", \"cat\"],[\"stop\", \"pots\", \"tops\"]]\n",
    "\n"
   ]
  },
  {
   "cell_type": "code",
   "execution_count": 93,
   "metadata": {},
   "outputs": [],
   "source": [
    "sorted_str=[\"\".join(sorted(word)) for word in strs]"
   ]
  },
  {
   "cell_type": "code",
   "execution_count": 94,
   "metadata": {},
   "outputs": [
    {
     "data": {
      "text/plain": [
       "{'act', 'aht', 'opst'}"
      ]
     },
     "execution_count": 94,
     "metadata": {},
     "output_type": "execute_result"
    }
   ],
   "source": [
    "set(sorted_str)"
   ]
  },
  {
   "cell_type": "code",
   "execution_count": 95,
   "metadata": {},
   "outputs": [],
   "source": [
    "from collections import defaultdict\n"
   ]
  },
  {
   "cell_type": "code",
   "execution_count": 96,
   "metadata": {},
   "outputs": [],
   "source": [
    "# get sublist of anagram\n",
    "def groupAnagrams(strs: List[str]) -> List[List[str]]:\n",
    "    result=defaultdict(list)\n",
    "    for str in strs:\n",
    "        sorteds=''.join(sorted(str))\n",
    "        result[sorteds].append(str)\n",
    "    \n",
    "    print(result)\n",
    "    return list(result.values())\n",
    "            \n",
    "     \n",
    "    "
   ]
  },
  {
   "cell_type": "code",
   "execution_count": 97,
   "metadata": {},
   "outputs": [
    {
     "name": "stdout",
     "output_type": "stream",
     "text": [
      "defaultdict(<class 'list'>, {'act': ['act', 'cat'], 'opst': ['pots', 'tops', 'stop'], 'aht': ['hat']})\n"
     ]
    },
    {
     "data": {
      "text/plain": [
       "[['act', 'cat'], ['pots', 'tops', 'stop'], ['hat']]"
      ]
     },
     "execution_count": 97,
     "metadata": {},
     "output_type": "execute_result"
    }
   ],
   "source": [
    "groupAnagrams(strs)"
   ]
  },
  {
   "cell_type": "code",
   "execution_count": 98,
   "metadata": {},
   "outputs": [],
   "source": [
    "nums = [1,2,2,3,3,3]\n",
    "k = 2\n",
    "output= [2,3]\n"
   ]
  },
  {
   "cell_type": "code",
   "execution_count": 99,
   "metadata": {},
   "outputs": [],
   "source": [
    "from collections import defaultdict\n",
    "def topKFrequent(nums: List[int], k: int) -> List[int]:\n",
    "    result=defaultdict(list)\n",
    "    for num in nums:\n",
    "        result[num].append(num)\n",
    "    print(result)\n",
    "    sorted_data = dict(sorted(result.items(), key=lambda item: (len(item[1])),reverse=True))\n",
    "    print(sorted_data)\n",
    "    \n",
    "    return list(sorted_data.keys())[:k]"
   ]
  },
  {
   "cell_type": "code",
   "execution_count": 100,
   "metadata": {},
   "outputs": [
    {
     "name": "stdout",
     "output_type": "stream",
     "text": [
      "defaultdict(<class 'list'>, {1: [1], 2: [2, 2], 3: [3, 3, 3]})\n",
      "{3: [3, 3, 3], 2: [2, 2], 1: [1]}\n"
     ]
    },
    {
     "data": {
      "text/plain": [
       "[3, 2]"
      ]
     },
     "execution_count": 100,
     "metadata": {},
     "output_type": "execute_result"
    }
   ],
   "source": [
    "topKFrequent(nums,k)"
   ]
  },
  {
   "cell_type": "code",
   "execution_count": 101,
   "metadata": {},
   "outputs": [],
   "source": [
    "Input= [\"neet\",\"code\",\"love\",\"you\"]\n",
    "\n",
    "Output=[\"neet\",\"code\",\"love\",\"you\"]\n"
   ]
  },
  {
   "cell_type": "code",
   "execution_count": 102,
   "metadata": {},
   "outputs": [],
   "source": [
    "def encode(strs: List[str]) -> str:\n",
    "    result=''\n",
    "    sym='###'\n",
    "    for st in strs:\n",
    "        # l=str(len(st))\n",
    "        result+=st+sym\n",
    "    return result\n",
    "\n",
    "\n",
    "def decode( s: str) -> List[str]:\n",
    "    return list(s.split(sep='###'))[:-1]\n",
    "    "
   ]
  },
  {
   "cell_type": "code",
   "execution_count": 103,
   "metadata": {},
   "outputs": [
    {
     "data": {
      "text/plain": [
       "'neet###code###love###you###'"
      ]
     },
     "execution_count": 103,
     "metadata": {},
     "output_type": "execute_result"
    }
   ],
   "source": [
    "ex=encode(Input)\n",
    "ex"
   ]
  },
  {
   "cell_type": "code",
   "execution_count": 104,
   "metadata": {},
   "outputs": [
    {
     "data": {
      "text/plain": [
       "['neet', 'code', 'love', 'you']"
      ]
     },
     "execution_count": 104,
     "metadata": {},
     "output_type": "execute_result"
    }
   ],
   "source": [
    "decode(ex)"
   ]
  },
  {
   "cell_type": "code",
   "execution_count": 105,
   "metadata": {},
   "outputs": [],
   "source": [
    "# product"
   ]
  },
  {
   "cell_type": "code",
   "execution_count": 106,
   "metadata": {},
   "outputs": [],
   "source": [
    "nums = [-1,0,1,2,3]\n",
    "output= [0,-6,0,0,0]\n"
   ]
  },
  {
   "cell_type": "code",
   "execution_count": 107,
   "metadata": {},
   "outputs": [],
   "source": [
    "def productExceptSelf(nums: List[int]) -> List[int]:\n",
    "    l= len(nums)\n",
    "    res = [1] * l\n",
    "    # Compute left product array\n",
    "    left = [1] * l\n",
    "    for i in range(1, l):\n",
    "        left[i] = left[i - 1] * nums[i - 1]\n",
    "\n",
    "    # Compute right product array\n",
    "    right = [1] * l\n",
    "    for i in range(l - 2, -1, -1):\n",
    "        right[i] = right[i + 1] * nums[i + 1]\n",
    "\n",
    "    # Compute result using left & right arrays\n",
    "    for i in range(l):\n",
    "        res[i] = left[i] * right[i]\n",
    "    return res\n",
    "    "
   ]
  },
  {
   "cell_type": "code",
   "execution_count": 108,
   "metadata": {},
   "outputs": [
    {
     "data": {
      "text/plain": [
       "[0, -6, 0, 0, 0]"
      ]
     },
     "execution_count": 108,
     "metadata": {},
     "output_type": "execute_result"
    }
   ],
   "source": [
    "productExceptSelf(nums)"
   ]
  },
  {
   "cell_type": "code",
   "execution_count": 109,
   "metadata": {},
   "outputs": [],
   "source": [
    "board = [[\"1\",\"2\",\".\",\".\",\"3\",\".\",\".\",\".\",\".\"],\n",
    " [\"4\",\".\",\".\",\"5\",\".\",\".\",\".\",\".\",\".\"],\n",
    " [\".\",\"9\",\"8\",\".\",\".\",\".\",\".\",\".\",\"3\"],\n",
    " [\"5\",\".\",\".\",\".\",\"6\",\".\",\".\",\".\",\"4\"],\n",
    " [\".\",\".\",\".\",\"8\",\".\",\"3\",\".\",\".\",\"5\"],\n",
    " [\"7\",\".\",\".\",\".\",\"2\",\".\",\".\",\".\",\"6\"],\n",
    " [\".\",\".\",\".\",\".\",\".\",\".\",\"2\",\".\",\".\"],\n",
    " [\".\",\".\",\".\",\"4\",\"1\",\"9\",\".\",\".\",\"8\"],\n",
    " [\".\",\".\",\".\",\".\",\"8\",\".\",\".\",\"7\",\"9\"]]"
   ]
  },
  {
   "cell_type": "code",
   "execution_count": 110,
   "metadata": {},
   "outputs": [
    {
     "data": {
      "text/plain": [
       "[['1', '2', '.', '.', '3', '.', '.', '.', '.'],\n",
       " ['4', '.', '.', '5', '.', '.', '.', '.', '.'],\n",
       " ['.', '9', '8', '.', '.', '.', '.', '.', '3'],\n",
       " ['5', '.', '.', '.', '6', '.', '.', '.', '4'],\n",
       " ['.', '.', '.', '8', '.', '3', '.', '.', '5'],\n",
       " ['7', '.', '.', '.', '2', '.', '.', '.', '6'],\n",
       " ['.', '.', '.', '.', '.', '.', '2', '.', '.'],\n",
       " ['.', '.', '.', '4', '1', '9', '.', '.', '8'],\n",
       " ['.', '.', '.', '.', '8', '.', '.', '7', '9']]"
      ]
     },
     "execution_count": 110,
     "metadata": {},
     "output_type": "execute_result"
    }
   ],
   "source": [
    "board"
   ]
  },
  {
   "cell_type": "code",
   "execution_count": 111,
   "metadata": {},
   "outputs": [],
   "source": [
    "def isValidSudoku(board: List[List[str]]) -> bool:\n",
    "    cols = defaultdict(set)\n",
    "    rows = defaultdict(set)\n",
    "    squares = defaultdict(set)\n",
    "\n",
    "    for r in range(9):\n",
    "        for c in range(9):\n",
    "            if board[r][c] == '.':\n",
    "                continue\n",
    "            piece = board[r][c]\n",
    "            if ( piece in rows[r] or piece in cols[c] or piece in squares[(r//3,c//3)]):\n",
    "                return False\n",
    "            \n",
    "            cols[c].add(piece)\n",
    "            rows[r].add(piece)\n",
    "            squares[(r//3,c//3)].add(piece)\n",
    "    print(squares)\n",
    "    return True"
   ]
  },
  {
   "cell_type": "code",
   "execution_count": 112,
   "metadata": {},
   "outputs": [
    {
     "name": "stdout",
     "output_type": "stream",
     "text": [
      "defaultdict(<class 'set'>, {(0, 0): {'4', '1', '8', '2', '9'}, (0, 1): {'5', '3'}, (0, 2): {'3'}, (1, 0): {'7', '5'}, (1, 1): {'2', '6', '3', '8'}, (1, 2): {'4', '6', '5'}, (2, 2): {'7', '8', '2', '9'}, (2, 1): {'4', '8', '9', '1'}})\n"
     ]
    },
    {
     "data": {
      "text/plain": [
       "True"
      ]
     },
     "execution_count": 112,
     "metadata": {},
     "output_type": "execute_result"
    }
   ],
   "source": [
    "isValidSudoku(board)"
   ]
  },
  {
   "cell_type": "code",
   "execution_count": 113,
   "metadata": {},
   "outputs": [],
   "source": [
    "nums = [2,20,4,10,3,4,5]\n",
    "output= 4\n",
    "\n",
    "nums2 = [0,3,2,5,4,6,1,1]\n",
    "Output2= 7"
   ]
  },
  {
   "cell_type": "code",
   "execution_count": 114,
   "metadata": {},
   "outputs": [],
   "source": [
    "def longestConsecutive(nums: List[int]) -> int:\n",
    "    sort_num=sorted(set(nums))\n",
    "    count=1\n",
    "    maxcount=1\n",
    "    for n in sort_num:\n",
    "        print(n)        \n",
    "        if (n+1) in sort_num:\n",
    "            count+=1\n",
    "            maxcount=max(count,maxcount)\n",
    "        else:\n",
    "            count = 1\n",
    "        # print(f'count={count}')\n",
    "    return maxcount"
   ]
  },
  {
   "cell_type": "code",
   "execution_count": 115,
   "metadata": {},
   "outputs": [
    {
     "data": {
      "text/plain": [
       "[-1, 0, 1]"
      ]
     },
     "execution_count": 115,
     "metadata": {},
     "output_type": "execute_result"
    }
   ],
   "source": [
    "nums=[1,0,-1]\n",
    "sorted(set(nums))"
   ]
  },
  {
   "cell_type": "code",
   "execution_count": 116,
   "metadata": {},
   "outputs": [
    {
     "name": "stdout",
     "output_type": "stream",
     "text": [
      "-1\n",
      "0\n",
      "1\n"
     ]
    },
    {
     "data": {
      "text/plain": [
       "3"
      ]
     },
     "execution_count": 116,
     "metadata": {},
     "output_type": "execute_result"
    }
   ],
   "source": [
    "nums=[1,0,-1]\n",
    "longestConsecutive(nums)"
   ]
  },
  {
   "cell_type": "code",
   "execution_count": 117,
   "metadata": {},
   "outputs": [],
   "source": [
    "y=set(sorted(nums2))"
   ]
  },
  {
   "cell_type": "code",
   "execution_count": 118,
   "metadata": {},
   "outputs": [],
   "source": [
    "count=1\n",
    "l=[]\n",
    "for x in y:\n",
    "    l.append(x)\n"
   ]
  },
  {
   "cell_type": "code",
   "execution_count": 119,
   "metadata": {},
   "outputs": [
    {
     "data": {
      "text/plain": [
       "[0, 1, 2, 3, 4, 5, 6]"
      ]
     },
     "execution_count": 119,
     "metadata": {},
     "output_type": "execute_result"
    }
   ],
   "source": [
    "l"
   ]
  },
  {
   "cell_type": "code",
   "execution_count": 120,
   "metadata": {},
   "outputs": [],
   "source": [
    "for i in range(0,len(l)-1):\n",
    "    if(l[i+1]-l[i]==1):\n",
    "        count+=1\n"
   ]
  },
  {
   "cell_type": "code",
   "execution_count": 121,
   "metadata": {},
   "outputs": [
    {
     "data": {
      "text/plain": [
       "7"
      ]
     },
     "execution_count": 121,
     "metadata": {},
     "output_type": "execute_result"
    }
   ],
   "source": [
    "count"
   ]
  },
  {
   "cell_type": "code",
   "execution_count": 122,
   "metadata": {},
   "outputs": [
    {
     "data": {
      "text/plain": [
       "[0, 0, 0, 0, 0, 0, 0]"
      ]
     },
     "execution_count": 122,
     "metadata": {},
     "output_type": "execute_result"
    }
   ],
   "source": [
    "res=[0]*len(y)\n",
    "# for i in range(0,len(y)-1):\n",
    "#     res[i]=y[i+1]-y[i]\n",
    "res"
   ]
  },
  {
   "cell_type": "code",
   "execution_count": 123,
   "metadata": {},
   "outputs": [
    {
     "data": {
      "text/plain": [
       "[0, 0, 0, 0, 0, 0, 0]"
      ]
     },
     "execution_count": 123,
     "metadata": {},
     "output_type": "execute_result"
    }
   ],
   "source": [
    "res"
   ]
  },
  {
   "cell_type": "code",
   "execution_count": 124,
   "metadata": {},
   "outputs": [
    {
     "data": {
      "text/plain": [
       "'wasitacaroracatisaw'"
      ]
     },
     "execution_count": 124,
     "metadata": {},
     "output_type": "execute_result"
    }
   ],
   "source": [
    "s = \"Was it a car or a cat I saw?\"\n",
    "# t=s.split(sep=\" \")\n",
    "st=''\n",
    "for c in s:\n",
    "    if c not in [',','?','!','.',' ']:\n",
    "        st+=c.lower()\n",
    "st"
   ]
  },
  {
   "cell_type": "code",
   "execution_count": 125,
   "metadata": {},
   "outputs": [
    {
     "data": {
      "text/plain": [
       "True"
      ]
     },
     "execution_count": 125,
     "metadata": {},
     "output_type": "execute_result"
    }
   ],
   "source": [
    "st[::-1]==st # reversing the string"
   ]
  },
  {
   "cell_type": "code",
   "execution_count": 126,
   "metadata": {},
   "outputs": [
    {
     "data": {
      "text/plain": [
       "'wasitacaroracatisaw'"
      ]
     },
     "execution_count": 126,
     "metadata": {},
     "output_type": "execute_result"
    }
   ],
   "source": [
    "st"
   ]
  },
  {
   "cell_type": "code",
   "execution_count": 127,
   "metadata": {},
   "outputs": [],
   "source": [
    "def isPalindrome(s: str) -> bool:\n",
    "    st=''\n",
    "    ig_char=[' ','.','?','!',',']\n",
    "    for c in s:\n",
    "        if c not in  ig_char:\n",
    "            st+=c.lower()\n",
    "    print(st)\n",
    "    return st[::-1]==st\n",
    "        "
   ]
  },
  {
   "cell_type": "code",
   "execution_count": 128,
   "metadata": {},
   "outputs": [
    {
     "name": "stdout",
     "output_type": "stream",
     "text": [
      "wasitacaroracatisaw\n"
     ]
    },
    {
     "data": {
      "text/plain": [
       "True"
      ]
     },
     "execution_count": 128,
     "metadata": {},
     "output_type": "execute_result"
    }
   ],
   "source": [
    "isPalindrome(s)"
   ]
  },
  {
   "cell_type": "code",
   "execution_count": 129,
   "metadata": {},
   "outputs": [],
   "source": [
    "numbers = [1,2,3,4]\n",
    "target = 3\n",
    "output= [1,2]\n"
   ]
  },
  {
   "cell_type": "code",
   "execution_count": 130,
   "metadata": {},
   "outputs": [],
   "source": [
    "def twoSum(numbers: List[int], target: int) -> List[int]:\n",
    "    dic=defaultdict(int)\n",
    "    for i,n in enumerate(numbers):\n",
    "        diff = target - n\n",
    "        if diff in dic:\n",
    "            return [dic[diff],i+1]\n",
    "        dic[n]=i+1\n",
    "    return []"
   ]
  },
  {
   "cell_type": "code",
   "execution_count": 131,
   "metadata": {},
   "outputs": [
    {
     "data": {
      "text/plain": [
       "[1, 2]"
      ]
     },
     "execution_count": 131,
     "metadata": {},
     "output_type": "execute_result"
    }
   ],
   "source": [
    "twoSum(numbers,target)"
   ]
  },
  {
   "cell_type": "code",
   "execution_count": 132,
   "metadata": {},
   "outputs": [],
   "source": [
    "nums = [-1,0,1,2,-1,-4]\n",
    "# y=[1,0,-1,-2,1,4]\n",
    "# z=[none,[-1,1],]\n",
    "o = [[-1,-1,2],[-1,0,1]]"
   ]
  },
  {
   "cell_type": "code",
   "execution_count": 133,
   "metadata": {},
   "outputs": [],
   "source": [
    "from collections import defaultdict"
   ]
  },
  {
   "cell_type": "code",
   "execution_count": 134,
   "metadata": {},
   "outputs": [],
   "source": [
    "# def threeSum(nums):\n",
    "#     nums=sorted(nums)\n",
    "#     left = 0\n",
    "#     right = len(nums) - 1\n",
    "#     print(nums)\n",
    "#     result = defaultdict(list)\n",
    "#     count = 0\n",
    "#     while left < right:\n",
    "#         remain_sum = -(nums[left] + nums[right])\n",
    "#         # print(remain_sum)\n",
    "#         if remain_sum in nums:\n",
    "#             idx= nums.index(remain_sum)\n",
    "#             if(left!=idx and right!=idx):\n",
    "#                 result[count].append(nums[left])\n",
    "#                 result[count].append(nums[right])\n",
    "#                 result[count].append(nums[idx])\n",
    "                \n",
    "                \n",
    "#         left +=1\n",
    "#         right -=1\n",
    "#         count +=1\n",
    "#     return list(result.values())\n",
    "        "
   ]
  },
  {
   "cell_type": "code",
   "execution_count": 135,
   "metadata": {},
   "outputs": [],
   "source": [
    "def threeSum(nums):\n",
    "    nums.sort()\n",
    "    res = []\n",
    "    for i, num in enumerate(nums):\n",
    "        if num > 0:\n",
    "            break # all positive case\n",
    "        if i > 0 and num == nums[i-1]:\n",
    "            continue # skipping the equal case\n",
    "        left , right = i + 1, len(nums)-1\n",
    "        # print(nums[left],' ',nums[right])\n",
    "        while left < right :\n",
    "            threesum = num + nums[left] + nums[right]\n",
    "            # print(threesum)\n",
    "            if threesum > 0:\n",
    "                right -=1\n",
    "            elif threesum < 0:\n",
    "                left +=1\n",
    "            else:\n",
    "                res.append([num,nums[left],nums[right]])\n",
    "                left +=1\n",
    "                right-=1\n",
    "                while nums[left] == nums[left - 1] and left < right:\n",
    "                    left += 1\n",
    "    return res\n",
    "        \n",
    "        "
   ]
  },
  {
   "cell_type": "code",
   "execution_count": 136,
   "metadata": {},
   "outputs": [
    {
     "data": {
      "text/plain": [
       "[-1, 0, 1, 2, -1, -4]"
      ]
     },
     "execution_count": 136,
     "metadata": {},
     "output_type": "execute_result"
    }
   ],
   "source": [
    "nums"
   ]
  },
  {
   "cell_type": "code",
   "execution_count": 137,
   "metadata": {},
   "outputs": [
    {
     "data": {
      "text/plain": [
       "[[-1, -1, 2], [-1, 0, 1]]"
      ]
     },
     "execution_count": 137,
     "metadata": {},
     "output_type": "execute_result"
    }
   ],
   "source": [
    "threeSum(nums)"
   ]
  },
  {
   "cell_type": "code",
   "execution_count": 138,
   "metadata": {},
   "outputs": [],
   "source": [
    "# careful about indentation"
   ]
  },
  {
   "cell_type": "markdown",
   "metadata": {},
   "source": [
    "# Container With Most Water"
   ]
  },
  {
   "cell_type": "code",
   "execution_count": 139,
   "metadata": {},
   "outputs": [],
   "source": [
    "height = [1,7,2,5,4,7,3,6]\n",
    "out=36"
   ]
  },
  {
   "cell_type": "code",
   "execution_count": null,
   "metadata": {},
   "outputs": [],
   "source": []
  },
  {
   "cell_type": "code",
   "execution_count": 140,
   "metadata": {},
   "outputs": [],
   "source": [
    "def maxArea(heights: List[int]) -> int:\n",
    "    l,r=0,len(heights)-1\n",
    "    res=1\n",
    "    while l < r:\n",
    "        ar = (r-l) * min(heights[l],heights[r])\n",
    "        res=max(res,ar)\n",
    "        if heights[l] < heights[r]:\n",
    "            l+=1\n",
    "        else:\n",
    "            r-=1\n",
    "    return res\n",
    "            \n",
    "    "
   ]
  },
  {
   "cell_type": "code",
   "execution_count": 141,
   "metadata": {},
   "outputs": [
    {
     "data": {
      "text/plain": [
       "36"
      ]
     },
     "execution_count": 141,
     "metadata": {},
     "output_type": "execute_result"
    }
   ],
   "source": [
    "maxArea(height)"
   ]
  },
  {
   "cell_type": "code",
   "execution_count": 142,
   "metadata": {},
   "outputs": [
    {
     "data": {
      "text/plain": [
       "4"
      ]
     },
     "execution_count": 142,
     "metadata": {},
     "output_type": "execute_result"
    }
   ],
   "source": [
    "maxArea(heights = [2,2,2])"
   ]
  },
  {
   "cell_type": "code",
   "execution_count": 143,
   "metadata": {},
   "outputs": [
    {
     "data": {
      "text/plain": [
       "200"
      ]
     },
     "execution_count": 143,
     "metadata": {},
     "output_type": "execute_result"
    }
   ],
   "source": [
    "inp=[1,8,100,2,100,4,8,3,7]\n",
    "maxArea(inp)"
   ]
  },
  {
   "cell_type": "markdown",
   "metadata": {},
   "source": [
    "# Trapping water"
   ]
  },
  {
   "cell_type": "code",
   "execution_count": 144,
   "metadata": {},
   "outputs": [],
   "source": [
    "height = [0,2,0,3,1,0,1,3,2,1]\n",
    "ou=9"
   ]
  },
  {
   "cell_type": "code",
   "execution_count": 145,
   "metadata": {},
   "outputs": [],
   "source": [
    "def trap(height: List[int]) -> int:\n",
    "    l,r=0,len(height)-1\n",
    "    res=0\n",
    "    while l < r:\n",
    "        ar = (r-l) * min(height[l],height[r])\n",
    "        print(ar)\n",
    "        t_l=l+1\n",
    "        while t_l<r:\n",
    "            a=0\n",
    "            if height[t_l]>0:\n",
    "               a+=height[t_l]\n",
    "            t_l+=1\n",
    "        ar=ar-a\n",
    "        res= max(ar,res)\n",
    "        if height[l]<height[r]:\n",
    "            l+=1\n",
    "        else:\n",
    "            r-=1\n",
    "    return res"
   ]
  },
  {
   "cell_type": "code",
   "execution_count": 146,
   "metadata": {},
   "outputs": [
    {
     "name": "stdout",
     "output_type": "stream",
     "text": [
      "0\n",
      "8\n",
      "14\n",
      "12\n",
      "0\n",
      "12\n",
      "3\n",
      "0\n",
      "1\n"
     ]
    },
    {
     "data": {
      "text/plain": [
       "11"
      ]
     },
     "execution_count": 146,
     "metadata": {},
     "output_type": "execute_result"
    }
   ],
   "source": [
    "trap(height)"
   ]
  },
  {
   "cell_type": "code",
   "execution_count": 147,
   "metadata": {},
   "outputs": [],
   "source": [
    " def trap(height: List[int]) -> int:\n",
    "        if not height:\n",
    "            return 0\n",
    "\n",
    "        l, r = 0, len(height) - 1\n",
    "        leftMax, rightMax = height[l], height[r]\n",
    "        res = 0\n",
    "        while l < r:\n",
    "            if leftMax < rightMax:\n",
    "                l += 1\n",
    "                leftMax = max(leftMax, height[l])\n",
    "                res += leftMax - height[l]\n",
    "            else:\n",
    "                r -= 1\n",
    "                rightMax = max(rightMax, height[r])\n",
    "                res += rightMax - height[r]\n",
    "        return res"
   ]
  },
  {
   "cell_type": "code",
   "execution_count": 148,
   "metadata": {},
   "outputs": [
    {
     "data": {
      "text/plain": [
       "9"
      ]
     },
     "execution_count": 148,
     "metadata": {},
     "output_type": "execute_result"
    }
   ],
   "source": [
    "trap(height)"
   ]
  },
  {
   "cell_type": "markdown",
   "metadata": {},
   "source": [
    "# Linked List"
   ]
  },
  {
   "cell_type": "code",
   "execution_count": 149,
   "metadata": {},
   "outputs": [],
   "source": [
    "class ListNode:\n",
    "    def __init__(self,val,next_node=None):\n",
    "        self.val = val\n",
    "        self.next = next_node\n",
    "class LinkedList:\n",
    "    \n",
    "    def __init__(self):\n",
    "        self.head = ListNode(-1)\n",
    "        self.tail = self.head\n",
    "\n",
    "    \n",
    "    def get(self, index: int) -> int:\n",
    "        curr = self.head.next\n",
    "        i = 0\n",
    "        while curr:\n",
    "            if i == index:\n",
    "                return curr.val\n",
    "            i += 1\n",
    "            curr = curr.next\n",
    "        return -1\n",
    "        \n",
    "\n",
    "    def insertHead(self, val: int) -> None:\n",
    "        new_node = ListNode(val)\n",
    "        new_node.next = self.head.next\n",
    "        self.head.next = new_node\n",
    "        if not new_node.next:\n",
    "            self.tail = new_node\n",
    "        \n",
    "        \n",
    "\n",
    "    def insertTail(self, val: int) -> None:\n",
    "       self.tail.next = ListNode(val)\n",
    "       self.tail = self.tail.next\n",
    "        # pass\n",
    "\n",
    "    def remove(self, index: int) -> bool:\n",
    "        i = 0\n",
    "        curr = self.head\n",
    "        while i < index and curr:\n",
    "            i += 1\n",
    "            curr = curr.next\n",
    "        \n",
    "        # Remove the node ahead of curr\n",
    "        if curr and curr.next:\n",
    "            if curr.next == self.tail:\n",
    "                self.tail = curr\n",
    "            curr.next = curr.next.next\n",
    "            return True\n",
    "        return False\n",
    "\n",
    "\n",
    "        \n",
    "\n",
    "    def getValues(self) -> List[int]:\n",
    "        curr = self.head.next\n",
    "        res = []\n",
    "        while curr:\n",
    "            res.append(curr.val)\n",
    "            curr = curr.next\n",
    "        return res\n",
    "        # pass"
   ]
  },
  {
   "cell_type": "code",
   "execution_count": 150,
   "metadata": {},
   "outputs": [],
   "source": [
    "# best time to buy & sell stock"
   ]
  },
  {
   "cell_type": "code",
   "execution_count": 151,
   "metadata": {},
   "outputs": [],
   "source": [
    "prices = [10,1,5,6,7,1]\n",
    "op = 6"
   ]
  },
  {
   "cell_type": "code",
   "execution_count": 152,
   "metadata": {},
   "outputs": [],
   "source": [
    "def maxProfit1(prices: List[int]) -> int:\n",
    "    l = len(prices)\n",
    "    w = 0\n",
    "    profit = 0\n",
    "    while w < l:\n",
    "        for i in range(l):\n",
    "            if i <(l-w):\n",
    "                buy = prices[i]\n",
    "                sell = prices[i + w]\n",
    "                # print(f'sell-{sell} buy-{buy}')\n",
    "                profit = max(profit,sell-buy)\n",
    "                # print(f'profiit={profit}')\n",
    "        w+=1\n",
    "        \n",
    "    return profit\n"
   ]
  },
  {
   "cell_type": "code",
   "execution_count": 153,
   "metadata": {},
   "outputs": [
    {
     "name": "stdout",
     "output_type": "stream",
     "text": [
      "CPU times: total: 0 ns\n",
      "Wall time: 9.3 μs\n"
     ]
    },
    {
     "data": {
      "text/plain": [
       "6"
      ]
     },
     "execution_count": 153,
     "metadata": {},
     "output_type": "execute_result"
    }
   ],
   "source": [
    "%time\n",
    "maxProfit1(prices)"
   ]
  },
  {
   "cell_type": "code",
   "execution_count": 154,
   "metadata": {},
   "outputs": [],
   "source": [
    "def maxProfit2(prices: List[int])->int:\n",
    "    l, r = 0,1\n",
    "    maxP = 0\n",
    "    while r < len(prices):\n",
    "        if prices[l]<prices[r]:\n",
    "            maxP = max(maxP,prices[r]-prices[l])\n",
    "        else:\n",
    "            l = r\n",
    "        r += 1\n",
    "    return maxP"
   ]
  },
  {
   "cell_type": "code",
   "execution_count": 155,
   "metadata": {},
   "outputs": [
    {
     "name": "stdout",
     "output_type": "stream",
     "text": [
      "CPU times: total: 0 ns\n",
      "Wall time: 4.53 μs\n"
     ]
    },
    {
     "data": {
      "text/plain": [
       "6"
      ]
     },
     "execution_count": 155,
     "metadata": {},
     "output_type": "execute_result"
    }
   ],
   "source": [
    "%time\n",
    "maxProfit2(prices)"
   ]
  },
  {
   "cell_type": "code",
   "execution_count": 156,
   "metadata": {},
   "outputs": [],
   "source": [
    "#longest substring without repeating characters"
   ]
  },
  {
   "cell_type": "code",
   "execution_count": 157,
   "metadata": {},
   "outputs": [],
   "source": [
    "s = \"zxyzxyz\""
   ]
  },
  {
   "cell_type": "code",
   "execution_count": 158,
   "metadata": {},
   "outputs": [],
   "source": [
    "def lengthOfLongestSubstring(s: str) -> int:\n",
    "    charSet = set()\n",
    "    l = 0\n",
    "    res = 0\n",
    "\n",
    "    for r in range(len(s)):\n",
    "        while s[r] in charSet:\n",
    "            charSet.remove(s[l])\n",
    "            l += 1\n",
    "        charSet.add(s[r])\n",
    "        print(charSet)\n",
    "        res = max(res, r - l + 1)\n",
    "    return res\n"
   ]
  },
  {
   "cell_type": "code",
   "execution_count": 159,
   "metadata": {},
   "outputs": [
    {
     "name": "stdout",
     "output_type": "stream",
     "text": [
      "{'z'}\n",
      "{'x', 'z'}\n",
      "{'y', 'x', 'z'}\n",
      "{'y', 'x', 'z'}\n",
      "{'y', 'x', 'z'}\n",
      "{'y', 'x', 'z'}\n",
      "{'y', 'x', 'z'}\n"
     ]
    },
    {
     "data": {
      "text/plain": [
       "3"
      ]
     },
     "execution_count": 159,
     "metadata": {},
     "output_type": "execute_result"
    }
   ],
   "source": [
    "lengthOfLongestSubstring(s)"
   ]
  },
  {
   "cell_type": "code",
   "execution_count": 160,
   "metadata": {},
   "outputs": [
    {
     "name": "stdout",
     "output_type": "stream",
     "text": [
      "{'d'}\n",
      "{'d', 'v'}\n",
      "{'d', 'v'}\n",
      "{'d', 'v', 'f'}\n"
     ]
    },
    {
     "data": {
      "text/plain": [
       "3"
      ]
     },
     "execution_count": 160,
     "metadata": {},
     "output_type": "execute_result"
    }
   ],
   "source": [
    "lengthOfLongestSubstring(\"dvdf\")"
   ]
  },
  {
   "cell_type": "code",
   "execution_count": null,
   "metadata": {},
   "outputs": [],
   "source": []
  }
 ],
 "metadata": {
  "kernelspec": {
   "display_name": "env312",
   "language": "python",
   "name": "python3"
  },
  "language_info": {
   "codemirror_mode": {
    "name": "ipython",
    "version": 3
   },
   "file_extension": ".py",
   "mimetype": "text/x-python",
   "name": "python",
   "nbconvert_exporter": "python",
   "pygments_lexer": "ipython3",
   "version": "3.13.2"
  }
 },
 "nbformat": 4,
 "nbformat_minor": 4
}
