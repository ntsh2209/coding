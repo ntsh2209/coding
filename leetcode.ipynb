{
 "cells": [
  {
   "cell_type": "code",
   "execution_count": 1,
   "metadata": {},
   "outputs": [
    {
     "name": "stdout",
     "output_type": "stream",
     "text": [
      "Python 3.12.9\n"
     ]
    }
   ],
   "source": [
    "!python --version"
   ]
  },
  {
   "cell_type": "code",
   "execution_count": 2,
   "metadata": {},
   "outputs": [],
   "source": [
    "from typing import List"
   ]
  },
  {
   "cell_type": "code",
   "execution_count": 3,
   "metadata": {},
   "outputs": [],
   "source": [
    "def isAnagram(s,t):\n",
    "    s_dict={char:s.count(char)for char in set(s)}\n",
    "    t_dict={char:t.count(char)for char in set(t)}\n",
    "    print(s_dict)\n",
    "    print(t_dict)\n",
    "    for char,count in s_dict.items():\n",
    "        if char not in t_dict or s_dict[char]!=t_dict[char]:\n",
    "            return False\n",
    "        \n",
    "    return True\n",
    "    "
   ]
  },
  {
   "cell_type": "code",
   "execution_count": 4,
   "metadata": {},
   "outputs": [
    {
     "name": "stdout",
     "output_type": "stream",
     "text": [
      "{'r': 1, 'j': 1, 'a': 1}\n",
      "{'j': 1, 'm': 1, 'a': 1}\n"
     ]
    },
    {
     "data": {
      "text/plain": [
       "False"
      ]
     },
     "execution_count": 4,
     "metadata": {},
     "output_type": "execute_result"
    }
   ],
   "source": [
    "s = \"jar\"\n",
    "t = \"jam\"\n",
    "isAnagram(s,t)"
   ]
  },
  {
   "cell_type": "code",
   "execution_count": 5,
   "metadata": {},
   "outputs": [],
   "source": [
    "s_dict={char:s.count(char) for char in set(s)}\n",
    "# t_dict="
   ]
  },
  {
   "cell_type": "code",
   "execution_count": 6,
   "metadata": {},
   "outputs": [
    {
     "name": "stdout",
     "output_type": "stream",
     "text": [
      "1 \n",
      "\n",
      "1 \n",
      "\n",
      "1 \n",
      "\n"
     ]
    }
   ],
   "source": [
    "for char,count in s_dict.items():\n",
    "    print(s_dict[char],\"\\n\")"
   ]
  },
  {
   "cell_type": "code",
   "execution_count": 7,
   "metadata": {},
   "outputs": [
    {
     "data": {
      "text/plain": [
       "False"
      ]
     },
     "execution_count": 7,
     "metadata": {},
     "output_type": "execute_result"
    }
   ],
   "source": [
    "sorted(s)==sorted(t)"
   ]
  },
  {
   "cell_type": "code",
   "execution_count": 8,
   "metadata": {},
   "outputs": [],
   "source": [
    "nums = [3,4,5,6]\n",
    "target = 7\n",
    "nums=[4,5,6]\n",
    "target=10\n",
    "\n",
    "# output=[0,2]\n",
    "# nums=[5,5]\n",
    "# target=10\n",
    "# output=[0,1]\n"
   ]
  },
  {
   "cell_type": "code",
   "execution_count": 9,
   "metadata": {},
   "outputs": [],
   "source": [
    "from typing import List\n",
    "\n",
    "\n",
    "def two_sums(nums,target)->List[int]:\n",
    "    # print(nums)\n",
    "    dictn={}\n",
    "    for i,n in enumerate(nums):\n",
    "        # print(dictn)\n",
    "        diff=target-n\n",
    "        if diff in dictn:\n",
    "            return [dictn[diff],i]\n",
    "        dictn[n]=i\n",
    "    return []\n",
    "\n"
   ]
  },
  {
   "cell_type": "code",
   "execution_count": 10,
   "metadata": {},
   "outputs": [
    {
     "data": {
      "text/plain": [
       "[0, 2]"
      ]
     },
     "execution_count": 10,
     "metadata": {},
     "output_type": "execute_result"
    }
   ],
   "source": [
    "two_sums(nums,target)"
   ]
  },
  {
   "cell_type": "code",
   "execution_count": 11,
   "metadata": {},
   "outputs": [
    {
     "name": "stdout",
     "output_type": "stream",
     "text": [
      "4\n"
     ]
    }
   ],
   "source": [
    "def subarray_sum(nums, target): \n",
    "    prefix_sum = {0: 1}  # Stores cumulative sum frequencies \n",
    "    curr_sum, count = 0, 0 \n",
    "     \n",
    "    for num in nums: \n",
    "        curr_sum += num \n",
    "        count += prefix_sum.get(curr_sum - target, 0)  # Check for required prefix \n",
    "        prefix_sum[curr_sum] = prefix_sum.get(curr_sum, 0) + 1  # Update count \n",
    "     \n",
    "    return count \n",
    " \n",
    "print(subarray_sum([1, 2, 3, -2, 5], 3))  # 3 subarrays sum to 3"
   ]
  },
  {
   "cell_type": "code",
   "execution_count": 12,
   "metadata": {},
   "outputs": [],
   "source": [
    "# anagram\n",
    "strs = [\"act\",\"pots\",\"tops\",\"cat\",\"stop\",\"hat\"]\n",
    "\n",
    "output= [[\"hat\"],[\"act\", \"cat\"],[\"stop\", \"pots\", \"tops\"]]\n",
    "\n"
   ]
  },
  {
   "cell_type": "code",
   "execution_count": 13,
   "metadata": {},
   "outputs": [],
   "source": [
    "sorted_str=[\"\".join(sorted(word)) for word in strs]"
   ]
  },
  {
   "cell_type": "code",
   "execution_count": 14,
   "metadata": {},
   "outputs": [
    {
     "data": {
      "text/plain": [
       "{'act', 'aht', 'opst'}"
      ]
     },
     "execution_count": 14,
     "metadata": {},
     "output_type": "execute_result"
    }
   ],
   "source": [
    "set(sorted_str)"
   ]
  },
  {
   "cell_type": "code",
   "execution_count": 15,
   "metadata": {},
   "outputs": [],
   "source": [
    "from collections import defaultdict\n"
   ]
  },
  {
   "cell_type": "code",
   "execution_count": 16,
   "metadata": {},
   "outputs": [],
   "source": [
    "# get sublist of anagram\n",
    "def groupAnagrams(strs: List[str]) -> List[List[str]]:\n",
    "    result=defaultdict(list)\n",
    "    for str in strs:\n",
    "        sorteds=''.join(sorted(str))\n",
    "        result[sorteds].append(str)\n",
    "    \n",
    "    print(result)\n",
    "    return list(result.values())\n",
    "            \n",
    "     \n",
    "    "
   ]
  },
  {
   "cell_type": "code",
   "execution_count": 17,
   "metadata": {},
   "outputs": [
    {
     "name": "stdout",
     "output_type": "stream",
     "text": [
      "defaultdict(<class 'list'>, {'act': ['act', 'cat'], 'opst': ['pots', 'tops', 'stop'], 'aht': ['hat']})\n"
     ]
    },
    {
     "data": {
      "text/plain": [
       "[['act', 'cat'], ['pots', 'tops', 'stop'], ['hat']]"
      ]
     },
     "execution_count": 17,
     "metadata": {},
     "output_type": "execute_result"
    }
   ],
   "source": [
    "groupAnagrams(strs)"
   ]
  },
  {
   "cell_type": "code",
   "execution_count": 18,
   "metadata": {},
   "outputs": [],
   "source": [
    "nums = [1,2,2,3,3,3]\n",
    "k = 2\n",
    "output= [2,3]\n"
   ]
  },
  {
   "cell_type": "code",
   "execution_count": 19,
   "metadata": {},
   "outputs": [],
   "source": [
    "from collections import defaultdict\n",
    "def topKFrequent(nums: List[int], k: int) -> List[int]:\n",
    "    result=defaultdict(list)\n",
    "    for num in nums:\n",
    "        result[num].append(num)\n",
    "    print(result)\n",
    "    sorted_data = dict(sorted(result.items(), key=lambda item: (len(item[1])),reverse=True))\n",
    "    print(sorted_data)\n",
    "    \n",
    "    return list(sorted_data.keys())[:k]"
   ]
  },
  {
   "cell_type": "code",
   "execution_count": 20,
   "metadata": {},
   "outputs": [
    {
     "name": "stdout",
     "output_type": "stream",
     "text": [
      "defaultdict(<class 'list'>, {1: [1], 2: [2, 2], 3: [3, 3, 3]})\n",
      "{3: [3, 3, 3], 2: [2, 2], 1: [1]}\n"
     ]
    },
    {
     "data": {
      "text/plain": [
       "[3, 2]"
      ]
     },
     "execution_count": 20,
     "metadata": {},
     "output_type": "execute_result"
    }
   ],
   "source": [
    "topKFrequent(nums,k)"
   ]
  },
  {
   "cell_type": "code",
   "execution_count": 21,
   "metadata": {},
   "outputs": [],
   "source": [
    "Input= [\"neet\",\"code\",\"love\",\"you\"]\n",
    "\n",
    "Output=[\"neet\",\"code\",\"love\",\"you\"]\n"
   ]
  },
  {
   "cell_type": "code",
   "execution_count": 22,
   "metadata": {},
   "outputs": [],
   "source": [
    "def encode(strs: List[str]) -> str:\n",
    "    result=''\n",
    "    sym='###'\n",
    "    for st in strs:\n",
    "        # l=str(len(st))\n",
    "        result+=st+sym\n",
    "    return result\n",
    "\n",
    "\n",
    "def decode( s: str) -> List[str]:\n",
    "    return list(s.split(sep='###'))[:-1]\n",
    "    "
   ]
  },
  {
   "cell_type": "code",
   "execution_count": 23,
   "metadata": {},
   "outputs": [
    {
     "data": {
      "text/plain": [
       "'neet###code###love###you###'"
      ]
     },
     "execution_count": 23,
     "metadata": {},
     "output_type": "execute_result"
    }
   ],
   "source": [
    "ex=encode(Input)\n",
    "ex"
   ]
  },
  {
   "cell_type": "code",
   "execution_count": 24,
   "metadata": {},
   "outputs": [
    {
     "data": {
      "text/plain": [
       "['neet', 'code', 'love', 'you']"
      ]
     },
     "execution_count": 24,
     "metadata": {},
     "output_type": "execute_result"
    }
   ],
   "source": [
    "decode(ex)"
   ]
  },
  {
   "cell_type": "code",
   "execution_count": 25,
   "metadata": {},
   "outputs": [],
   "source": [
    "# product"
   ]
  },
  {
   "cell_type": "code",
   "execution_count": 26,
   "metadata": {},
   "outputs": [],
   "source": [
    "nums = [-1,0,1,2,3]\n",
    "output= [0,-6,0,0,0]\n"
   ]
  },
  {
   "cell_type": "code",
   "execution_count": 27,
   "metadata": {},
   "outputs": [],
   "source": [
    "def productExceptSelf(nums: List[int]) -> List[int]:\n",
    "    l= len(nums)\n",
    "    res = [1] * l\n",
    "    # Compute left product array\n",
    "    left = [1] * l\n",
    "    for i in range(1, l):\n",
    "        left[i] = left[i - 1] * nums[i - 1]\n",
    "\n",
    "    # Compute right product array\n",
    "    right = [1] * l\n",
    "    for i in range(l - 2, -1, -1):\n",
    "        right[i] = right[i + 1] * nums[i + 1]\n",
    "\n",
    "    # Compute result using left & right arrays\n",
    "    for i in range(l):\n",
    "        res[i] = left[i] * right[i]\n",
    "    return res\n",
    "    "
   ]
  },
  {
   "cell_type": "code",
   "execution_count": 28,
   "metadata": {},
   "outputs": [
    {
     "data": {
      "text/plain": [
       "[0, -6, 0, 0, 0]"
      ]
     },
     "execution_count": 28,
     "metadata": {},
     "output_type": "execute_result"
    }
   ],
   "source": [
    "productExceptSelf(nums)"
   ]
  },
  {
   "cell_type": "code",
   "execution_count": 29,
   "metadata": {},
   "outputs": [],
   "source": [
    "board = [[\"1\",\"2\",\".\",\".\",\"3\",\".\",\".\",\".\",\".\"],\n",
    " [\"4\",\".\",\".\",\"5\",\".\",\".\",\".\",\".\",\".\"],\n",
    " [\".\",\"9\",\"8\",\".\",\".\",\".\",\".\",\".\",\"3\"],\n",
    " [\"5\",\".\",\".\",\".\",\"6\",\".\",\".\",\".\",\"4\"],\n",
    " [\".\",\".\",\".\",\"8\",\".\",\"3\",\".\",\".\",\"5\"],\n",
    " [\"7\",\".\",\".\",\".\",\"2\",\".\",\".\",\".\",\"6\"],\n",
    " [\".\",\".\",\".\",\".\",\".\",\".\",\"2\",\".\",\".\"],\n",
    " [\".\",\".\",\".\",\"4\",\"1\",\"9\",\".\",\".\",\"8\"],\n",
    " [\".\",\".\",\".\",\".\",\"8\",\".\",\".\",\"7\",\"9\"]]"
   ]
  },
  {
   "cell_type": "code",
   "execution_count": 30,
   "metadata": {},
   "outputs": [
    {
     "data": {
      "text/plain": [
       "[['1', '2', '.', '.', '3', '.', '.', '.', '.'],\n",
       " ['4', '.', '.', '5', '.', '.', '.', '.', '.'],\n",
       " ['.', '9', '8', '.', '.', '.', '.', '.', '3'],\n",
       " ['5', '.', '.', '.', '6', '.', '.', '.', '4'],\n",
       " ['.', '.', '.', '8', '.', '3', '.', '.', '5'],\n",
       " ['7', '.', '.', '.', '2', '.', '.', '.', '6'],\n",
       " ['.', '.', '.', '.', '.', '.', '2', '.', '.'],\n",
       " ['.', '.', '.', '4', '1', '9', '.', '.', '8'],\n",
       " ['.', '.', '.', '.', '8', '.', '.', '7', '9']]"
      ]
     },
     "execution_count": 30,
     "metadata": {},
     "output_type": "execute_result"
    }
   ],
   "source": [
    "board"
   ]
  },
  {
   "cell_type": "code",
   "execution_count": 31,
   "metadata": {},
   "outputs": [],
   "source": [
    "def isValidSudoku(board: List[List[str]]) -> bool:\n",
    "    cols = defaultdict(set)\n",
    "    rows = defaultdict(set)\n",
    "    squares = defaultdict(set)\n",
    "\n",
    "    for r in range(9):\n",
    "        for c in range(9):\n",
    "            if board[r][c] == '.':\n",
    "                continue\n",
    "            piece = board[r][c]\n",
    "            if ( piece in rows[r] or piece in cols[c] or piece in squares[(r//3,c//3)]):\n",
    "                return False\n",
    "            \n",
    "            cols[c].add(piece)\n",
    "            rows[r].add(piece)\n",
    "            squares[(r//3,c//3)].add(piece)\n",
    "    print(squares)\n",
    "    return True"
   ]
  },
  {
   "cell_type": "code",
   "execution_count": 32,
   "metadata": {},
   "outputs": [
    {
     "name": "stdout",
     "output_type": "stream",
     "text": [
      "defaultdict(<class 'set'>, {(0, 0): {'8', '1', '4', '2', '9'}, (0, 1): {'3', '5'}, (0, 2): {'3'}, (1, 0): {'7', '5'}, (1, 1): {'6', '3', '8', '2'}, (1, 2): {'4', '6', '5'}, (2, 2): {'8', '7', '9', '2'}, (2, 1): {'4', '1', '8', '9'}})\n"
     ]
    },
    {
     "data": {
      "text/plain": [
       "True"
      ]
     },
     "execution_count": 32,
     "metadata": {},
     "output_type": "execute_result"
    }
   ],
   "source": [
    "isValidSudoku(board)"
   ]
  },
  {
   "cell_type": "code",
   "execution_count": 33,
   "metadata": {},
   "outputs": [],
   "source": [
    "nums = [2,20,4,10,3,4,5]\n",
    "output= 4\n",
    "\n",
    "nums2 = [0,3,2,5,4,6,1,1]\n",
    "Output2= 7"
   ]
  },
  {
   "cell_type": "code",
   "execution_count": 34,
   "metadata": {},
   "outputs": [],
   "source": [
    "def longestConsecutive(nums: List[int]) -> int:\n",
    "    sort_num=sorted(set(nums))\n",
    "    count=1\n",
    "    maxcount=1\n",
    "    for n in sort_num:\n",
    "        print(n)        \n",
    "        if (n+1) in sort_num:\n",
    "            count+=1\n",
    "            maxcount=max(count,maxcount)\n",
    "        else:\n",
    "            count = 1\n",
    "        # print(f'count={count}')\n",
    "    return maxcount"
   ]
  },
  {
   "cell_type": "code",
   "execution_count": 35,
   "metadata": {},
   "outputs": [
    {
     "data": {
      "text/plain": [
       "[-1, 0, 1]"
      ]
     },
     "execution_count": 35,
     "metadata": {},
     "output_type": "execute_result"
    }
   ],
   "source": [
    "nums=[1,0,-1]\n",
    "sorted(set(nums))"
   ]
  },
  {
   "cell_type": "code",
   "execution_count": 36,
   "metadata": {},
   "outputs": [
    {
     "name": "stdout",
     "output_type": "stream",
     "text": [
      "-1\n",
      "0\n",
      "1\n"
     ]
    },
    {
     "data": {
      "text/plain": [
       "3"
      ]
     },
     "execution_count": 36,
     "metadata": {},
     "output_type": "execute_result"
    }
   ],
   "source": [
    "nums=[1,0,-1]\n",
    "longestConsecutive(nums)"
   ]
  },
  {
   "cell_type": "code",
   "execution_count": 37,
   "metadata": {},
   "outputs": [],
   "source": [
    "y=set(sorted(nums2))"
   ]
  },
  {
   "cell_type": "code",
   "execution_count": 38,
   "metadata": {},
   "outputs": [],
   "source": [
    "count=1\n",
    "l=[]\n",
    "for x in y:\n",
    "    l.append(x)\n"
   ]
  },
  {
   "cell_type": "code",
   "execution_count": 39,
   "metadata": {},
   "outputs": [
    {
     "data": {
      "text/plain": [
       "[0, 1, 2, 3, 4, 5, 6]"
      ]
     },
     "execution_count": 39,
     "metadata": {},
     "output_type": "execute_result"
    }
   ],
   "source": [
    "l"
   ]
  },
  {
   "cell_type": "code",
   "execution_count": 40,
   "metadata": {},
   "outputs": [],
   "source": [
    "for i in range(0,len(l)-1):\n",
    "    if(l[i+1]-l[i]==1):\n",
    "        count+=1\n"
   ]
  },
  {
   "cell_type": "code",
   "execution_count": 41,
   "metadata": {},
   "outputs": [
    {
     "data": {
      "text/plain": [
       "7"
      ]
     },
     "execution_count": 41,
     "metadata": {},
     "output_type": "execute_result"
    }
   ],
   "source": [
    "count"
   ]
  },
  {
   "cell_type": "code",
   "execution_count": 42,
   "metadata": {},
   "outputs": [
    {
     "data": {
      "text/plain": [
       "[0, 0, 0, 0, 0, 0, 0]"
      ]
     },
     "execution_count": 42,
     "metadata": {},
     "output_type": "execute_result"
    }
   ],
   "source": [
    "res=[0]*len(y)\n",
    "# for i in range(0,len(y)-1):\n",
    "#     res[i]=y[i+1]-y[i]\n",
    "res"
   ]
  },
  {
   "cell_type": "code",
   "execution_count": 43,
   "metadata": {},
   "outputs": [
    {
     "data": {
      "text/plain": [
       "[0, 0, 0, 0, 0, 0, 0]"
      ]
     },
     "execution_count": 43,
     "metadata": {},
     "output_type": "execute_result"
    }
   ],
   "source": [
    "res"
   ]
  },
  {
   "cell_type": "code",
   "execution_count": 44,
   "metadata": {},
   "outputs": [
    {
     "data": {
      "text/plain": [
       "'wasitacaroracatisaw'"
      ]
     },
     "execution_count": 44,
     "metadata": {},
     "output_type": "execute_result"
    }
   ],
   "source": [
    "s = \"Was it a car or a cat I saw?\"\n",
    "# t=s.split(sep=\" \")\n",
    "st=''\n",
    "for c in s:\n",
    "    if c not in [',','?','!','.',' ']:\n",
    "        st+=c.lower()\n",
    "st"
   ]
  },
  {
   "cell_type": "code",
   "execution_count": 45,
   "metadata": {},
   "outputs": [
    {
     "data": {
      "text/plain": [
       "True"
      ]
     },
     "execution_count": 45,
     "metadata": {},
     "output_type": "execute_result"
    }
   ],
   "source": [
    "st[::-1]==st # reversing the string"
   ]
  },
  {
   "cell_type": "code",
   "execution_count": 46,
   "metadata": {},
   "outputs": [
    {
     "data": {
      "text/plain": [
       "'wasitacaroracatisaw'"
      ]
     },
     "execution_count": 46,
     "metadata": {},
     "output_type": "execute_result"
    }
   ],
   "source": [
    "st"
   ]
  },
  {
   "cell_type": "code",
   "execution_count": 47,
   "metadata": {},
   "outputs": [],
   "source": [
    "def isPalindrome(s: str) -> bool:\n",
    "    st=''\n",
    "    ig_char=[' ','.','?','!',',']\n",
    "    for c in s:\n",
    "        if c not in  ig_char:\n",
    "            st+=c.lower()\n",
    "    print(st)\n",
    "    return st[::-1]==st\n",
    "        "
   ]
  },
  {
   "cell_type": "code",
   "execution_count": 48,
   "metadata": {},
   "outputs": [
    {
     "name": "stdout",
     "output_type": "stream",
     "text": [
      "wasitacaroracatisaw\n"
     ]
    },
    {
     "data": {
      "text/plain": [
       "True"
      ]
     },
     "execution_count": 48,
     "metadata": {},
     "output_type": "execute_result"
    }
   ],
   "source": [
    "isPalindrome(s)"
   ]
  },
  {
   "cell_type": "code",
   "execution_count": 49,
   "metadata": {},
   "outputs": [],
   "source": [
    "numbers = [1,2,3,4]\n",
    "target = 3\n",
    "output= [1,2]\n"
   ]
  },
  {
   "cell_type": "code",
   "execution_count": 50,
   "metadata": {},
   "outputs": [],
   "source": [
    "def twoSum(numbers: List[int], target: int) -> List[int]:\n",
    "    dic=defaultdict(int)\n",
    "    for i,n in enumerate(numbers):\n",
    "        diff = target - n\n",
    "        if diff in dic:\n",
    "            return [dic[diff],i+1]\n",
    "        dic[n]=i+1\n",
    "    return []"
   ]
  },
  {
   "cell_type": "code",
   "execution_count": 51,
   "metadata": {},
   "outputs": [
    {
     "data": {
      "text/plain": [
       "[1, 2]"
      ]
     },
     "execution_count": 51,
     "metadata": {},
     "output_type": "execute_result"
    }
   ],
   "source": [
    "twoSum(numbers,target)"
   ]
  },
  {
   "cell_type": "code",
   "execution_count": 52,
   "metadata": {},
   "outputs": [],
   "source": [
    "nums = [-1,0,1,2,-1,-4]\n",
    "# y=[1,0,-1,-2,1,4]\n",
    "# z=[none,[-1,1],]\n",
    "o = [[-1,-1,2],[-1,0,1]]"
   ]
  },
  {
   "cell_type": "code",
   "execution_count": 53,
   "metadata": {},
   "outputs": [],
   "source": [
    "from collections import defaultdict"
   ]
  },
  {
   "cell_type": "code",
   "execution_count": 54,
   "metadata": {},
   "outputs": [],
   "source": [
    "# def threeSum(nums):\n",
    "#     nums=sorted(nums)\n",
    "#     left = 0\n",
    "#     right = len(nums) - 1\n",
    "#     print(nums)\n",
    "#     result = defaultdict(list)\n",
    "#     count = 0\n",
    "#     while left < right:\n",
    "#         remain_sum = -(nums[left] + nums[right])\n",
    "#         # print(remain_sum)\n",
    "#         if remain_sum in nums:\n",
    "#             idx= nums.index(remain_sum)\n",
    "#             if(left!=idx and right!=idx):\n",
    "#                 result[count].append(nums[left])\n",
    "#                 result[count].append(nums[right])\n",
    "#                 result[count].append(nums[idx])\n",
    "                \n",
    "                \n",
    "#         left +=1\n",
    "#         right -=1\n",
    "#         count +=1\n",
    "#     return list(result.values())\n",
    "        "
   ]
  },
  {
   "cell_type": "code",
   "execution_count": 55,
   "metadata": {},
   "outputs": [],
   "source": [
    "def threeSum(nums):\n",
    "    nums.sort()\n",
    "    res = []\n",
    "    for i, num in enumerate(nums):\n",
    "        if num > 0:\n",
    "            break # all positive case\n",
    "        if i > 0 and num == nums[i-1]:\n",
    "            continue # skipping the equal case\n",
    "        left , right = i + 1, len(nums)-1\n",
    "        # print(nums[left],' ',nums[right])\n",
    "        while left < right :\n",
    "            threesum = num + nums[left] + nums[right]\n",
    "            # print(threesum)\n",
    "            if threesum > 0:\n",
    "                right -=1\n",
    "            elif threesum < 0:\n",
    "                left +=1\n",
    "            else:\n",
    "                res.append([num,nums[left],nums[right]])\n",
    "                left +=1\n",
    "                right-=1\n",
    "                while nums[left] == nums[left - 1] and left < right:\n",
    "                    left += 1\n",
    "    return res\n",
    "        \n",
    "        "
   ]
  },
  {
   "cell_type": "code",
   "execution_count": 56,
   "metadata": {},
   "outputs": [
    {
     "data": {
      "text/plain": [
       "[-1, 0, 1, 2, -1, -4]"
      ]
     },
     "execution_count": 56,
     "metadata": {},
     "output_type": "execute_result"
    }
   ],
   "source": [
    "nums"
   ]
  },
  {
   "cell_type": "code",
   "execution_count": 57,
   "metadata": {},
   "outputs": [
    {
     "data": {
      "text/plain": [
       "[[-1, -1, 2], [-1, 0, 1]]"
      ]
     },
     "execution_count": 57,
     "metadata": {},
     "output_type": "execute_result"
    }
   ],
   "source": [
    "threeSum(nums)"
   ]
  },
  {
   "cell_type": "code",
   "execution_count": 58,
   "metadata": {},
   "outputs": [],
   "source": [
    "# careful about indentation"
   ]
  },
  {
   "cell_type": "markdown",
   "metadata": {},
   "source": [
    "# Container With Most Water"
   ]
  },
  {
   "cell_type": "code",
   "execution_count": 59,
   "metadata": {},
   "outputs": [],
   "source": [
    "height = [1,7,2,5,4,7,3,6]\n",
    "out=36"
   ]
  },
  {
   "cell_type": "code",
   "execution_count": null,
   "metadata": {},
   "outputs": [],
   "source": []
  },
  {
   "cell_type": "code",
   "execution_count": 60,
   "metadata": {},
   "outputs": [],
   "source": [
    "def maxArea(heights: List[int]) -> int:\n",
    "    l,r=0,len(heights)-1\n",
    "    res=1\n",
    "    while l < r:\n",
    "        ar = (r-l) * min(heights[l],heights[r])\n",
    "        res=max(res,ar)\n",
    "        if heights[l] < heights[r]:\n",
    "            l+=1\n",
    "        else:\n",
    "            r-=1\n",
    "    return res\n",
    "            \n",
    "    "
   ]
  },
  {
   "cell_type": "code",
   "execution_count": 61,
   "metadata": {},
   "outputs": [
    {
     "data": {
      "text/plain": [
       "36"
      ]
     },
     "execution_count": 61,
     "metadata": {},
     "output_type": "execute_result"
    }
   ],
   "source": [
    "maxArea(height)"
   ]
  },
  {
   "cell_type": "code",
   "execution_count": 62,
   "metadata": {},
   "outputs": [
    {
     "data": {
      "text/plain": [
       "4"
      ]
     },
     "execution_count": 62,
     "metadata": {},
     "output_type": "execute_result"
    }
   ],
   "source": [
    "maxArea(heights = [2,2,2])"
   ]
  },
  {
   "cell_type": "code",
   "execution_count": 63,
   "metadata": {},
   "outputs": [
    {
     "data": {
      "text/plain": [
       "200"
      ]
     },
     "execution_count": 63,
     "metadata": {},
     "output_type": "execute_result"
    }
   ],
   "source": [
    "inp=[1,8,100,2,100,4,8,3,7]\n",
    "maxArea(inp)"
   ]
  },
  {
   "cell_type": "markdown",
   "metadata": {},
   "source": [
    "# Trapping water"
   ]
  },
  {
   "cell_type": "code",
   "execution_count": 64,
   "metadata": {},
   "outputs": [],
   "source": [
    "height = [0,2,0,3,1,0,1,3,2,1]\n",
    "ou=9"
   ]
  },
  {
   "cell_type": "code",
   "execution_count": 65,
   "metadata": {},
   "outputs": [],
   "source": [
    "def trap(height: List[int]) -> int:\n",
    "    l,r=0,len(height)-1\n",
    "    res=0\n",
    "    while l < r:\n",
    "        ar = (r-l) * min(height[l],height[r])\n",
    "        print(ar)\n",
    "        t_l=l+1\n",
    "        while t_l<r:\n",
    "            a=0\n",
    "            if height[t_l]>0:\n",
    "               a+=height[t_l]\n",
    "            t_l+=1\n",
    "        ar=ar-a\n",
    "        res= max(ar,res)\n",
    "        if height[l]<height[r]:\n",
    "            l+=1\n",
    "        else:\n",
    "            r-=1\n",
    "    return res"
   ]
  },
  {
   "cell_type": "code",
   "execution_count": 66,
   "metadata": {},
   "outputs": [
    {
     "name": "stdout",
     "output_type": "stream",
     "text": [
      "0\n",
      "8\n",
      "14\n",
      "12\n",
      "0\n",
      "12\n",
      "3\n",
      "0\n",
      "1\n"
     ]
    },
    {
     "data": {
      "text/plain": [
       "11"
      ]
     },
     "execution_count": 66,
     "metadata": {},
     "output_type": "execute_result"
    }
   ],
   "source": [
    "trap(height)"
   ]
  },
  {
   "cell_type": "code",
   "execution_count": 67,
   "metadata": {},
   "outputs": [],
   "source": [
    " def trap(height: List[int]) -> int:\n",
    "        if not height:\n",
    "            return 0\n",
    "\n",
    "        l, r = 0, len(height) - 1\n",
    "        leftMax, rightMax = height[l], height[r]\n",
    "        res = 0\n",
    "        while l < r:\n",
    "            if leftMax < rightMax:\n",
    "                l += 1\n",
    "                leftMax = max(leftMax, height[l])\n",
    "                res += leftMax - height[l]\n",
    "            else:\n",
    "                r -= 1\n",
    "                rightMax = max(rightMax, height[r])\n",
    "                res += rightMax - height[r]\n",
    "        return res"
   ]
  },
  {
   "cell_type": "code",
   "execution_count": 68,
   "metadata": {},
   "outputs": [
    {
     "data": {
      "text/plain": [
       "9"
      ]
     },
     "execution_count": 68,
     "metadata": {},
     "output_type": "execute_result"
    }
   ],
   "source": [
    "trap(height)"
   ]
  },
  {
   "cell_type": "markdown",
   "metadata": {},
   "source": [
    "# Linked List"
   ]
  },
  {
   "cell_type": "code",
   "execution_count": 69,
   "metadata": {},
   "outputs": [],
   "source": [
    "class ListNode:\n",
    "    def __init__(self,val,next_node=None):\n",
    "        self.val = val\n",
    "        self.next = next_node\n",
    "class LinkedList:\n",
    "    \n",
    "    def __init__(self):\n",
    "        self.head = ListNode(-1)\n",
    "        self.tail = self.head\n",
    "\n",
    "    \n",
    "    def get(self, index: int) -> int:\n",
    "        curr = self.head.next\n",
    "        i = 0\n",
    "        while curr:\n",
    "            if i == index:\n",
    "                return curr.val\n",
    "            i += 1\n",
    "            curr = curr.next\n",
    "        return -1\n",
    "        \n",
    "\n",
    "    def insertHead(self, val: int) -> None:\n",
    "        new_node = ListNode(val)\n",
    "        new_node.next = self.head.next\n",
    "        self.head.next = new_node\n",
    "        if not new_node.next:\n",
    "            self.tail = new_node\n",
    "        \n",
    "        \n",
    "\n",
    "    def insertTail(self, val: int) -> None:\n",
    "       self.tail.next = ListNode(val)\n",
    "       self.tail = self.tail.next\n",
    "        # pass\n",
    "\n",
    "    def remove(self, index: int) -> bool:\n",
    "        i = 0\n",
    "        curr = self.head\n",
    "        while i < index and curr:\n",
    "            i += 1\n",
    "            curr = curr.next\n",
    "        \n",
    "        # Remove the node ahead of curr\n",
    "        if curr and curr.next:\n",
    "            if curr.next == self.tail:\n",
    "                self.tail = curr\n",
    "            curr.next = curr.next.next\n",
    "            return True\n",
    "        return False\n",
    "\n",
    "\n",
    "        \n",
    "\n",
    "    def getValues(self) -> List[int]:\n",
    "        curr = self.head.next\n",
    "        res = []\n",
    "        while curr:\n",
    "            res.append(curr.val)\n",
    "            curr = curr.next\n",
    "        return res\n",
    "        # pass"
   ]
  },
  {
   "cell_type": "code",
   "execution_count": 70,
   "metadata": {},
   "outputs": [],
   "source": [
    "# best time to buy & sell stock"
   ]
  },
  {
   "cell_type": "code",
   "execution_count": 71,
   "metadata": {},
   "outputs": [],
   "source": [
    "prices = [10,1,5,6,7,1]\n",
    "op = 6"
   ]
  },
  {
   "cell_type": "code",
   "execution_count": 72,
   "metadata": {},
   "outputs": [],
   "source": [
    "def maxProfit1(prices: List[int]) -> int:\n",
    "    l = len(prices)\n",
    "    w = 0\n",
    "    profit = 0\n",
    "    while w < l:\n",
    "        for i in range(l):\n",
    "            if i <(l-w):\n",
    "                buy = prices[i]\n",
    "                sell = prices[i + w]\n",
    "                # print(f'sell-{sell} buy-{buy}')\n",
    "                profit = max(profit,sell-buy)\n",
    "                # print(f'profiit={profit}')\n",
    "        w+=1\n",
    "        \n",
    "    return profit\n"
   ]
  },
  {
   "cell_type": "code",
   "execution_count": 73,
   "metadata": {},
   "outputs": [
    {
     "name": "stdout",
     "output_type": "stream",
     "text": [
      "CPU times: user 1e+03 ns, sys: 0 ns, total: 1e+03 ns\n",
      "Wall time: 2.15 μs\n"
     ]
    },
    {
     "data": {
      "text/plain": [
       "6"
      ]
     },
     "execution_count": 73,
     "metadata": {},
     "output_type": "execute_result"
    }
   ],
   "source": [
    "%time\n",
    "maxProfit1(prices)"
   ]
  },
  {
   "cell_type": "code",
   "execution_count": 74,
   "metadata": {},
   "outputs": [],
   "source": [
    "def maxProfit2(prices: List[int])->int:\n",
    "    l, r = 0,1\n",
    "    maxP = 0\n",
    "    while r < len(prices):\n",
    "        if prices[l]<prices[r]:\n",
    "            maxP = max(maxP,prices[r]-prices[l])\n",
    "        else:\n",
    "            l = r\n",
    "        r += 1\n",
    "    return maxP"
   ]
  },
  {
   "cell_type": "code",
   "execution_count": 75,
   "metadata": {},
   "outputs": [
    {
     "name": "stdout",
     "output_type": "stream",
     "text": [
      "CPU times: user 0 ns, sys: 0 ns, total: 0 ns\n",
      "Wall time: 2.15 μs\n"
     ]
    },
    {
     "data": {
      "text/plain": [
       "6"
      ]
     },
     "execution_count": 75,
     "metadata": {},
     "output_type": "execute_result"
    }
   ],
   "source": [
    "%time\n",
    "maxProfit2(prices)"
   ]
  },
  {
   "cell_type": "code",
   "execution_count": 76,
   "metadata": {},
   "outputs": [],
   "source": [
    "#longest substring without repeating characters"
   ]
  },
  {
   "cell_type": "code",
   "execution_count": 77,
   "metadata": {},
   "outputs": [],
   "source": [
    "s = \"zxyzxyz\""
   ]
  },
  {
   "cell_type": "code",
   "execution_count": 78,
   "metadata": {},
   "outputs": [],
   "source": [
    "def lengthOfLongestSubstring(s: str) -> int:\n",
    "    charSet = set()\n",
    "    l = 0\n",
    "    res = 0\n",
    "\n",
    "    for r in range(len(s)):\n",
    "        while s[r] in charSet:\n",
    "            charSet.remove(s[l])\n",
    "            l += 1\n",
    "        charSet.add(s[r])\n",
    "        print(charSet)\n",
    "        res = max(res, r - l + 1)\n",
    "    return res\n"
   ]
  },
  {
   "cell_type": "code",
   "execution_count": 79,
   "metadata": {},
   "outputs": [
    {
     "name": "stdout",
     "output_type": "stream",
     "text": [
      "{'z'}\n",
      "{'z', 'x'}\n",
      "{'z', 'y', 'x'}\n",
      "{'z', 'y', 'x'}\n",
      "{'z', 'y', 'x'}\n",
      "{'z', 'y', 'x'}\n",
      "{'z', 'y', 'x'}\n"
     ]
    },
    {
     "data": {
      "text/plain": [
       "3"
      ]
     },
     "execution_count": 79,
     "metadata": {},
     "output_type": "execute_result"
    }
   ],
   "source": [
    "lengthOfLongestSubstring(s)"
   ]
  },
  {
   "cell_type": "code",
   "execution_count": 80,
   "metadata": {},
   "outputs": [
    {
     "name": "stdout",
     "output_type": "stream",
     "text": [
      "{'d'}\n",
      "{'v', 'd'}\n",
      "{'v', 'd'}\n",
      "{'f', 'v', 'd'}\n"
     ]
    },
    {
     "data": {
      "text/plain": [
       "3"
      ]
     },
     "execution_count": 80,
     "metadata": {},
     "output_type": "execute_result"
    }
   ],
   "source": [
    "lengthOfLongestSubstring(\"dvdf\")"
   ]
  },
  {
   "cell_type": "code",
   "execution_count": null,
   "metadata": {},
   "outputs": [],
   "source": []
  }
 ],
 "metadata": {
  "kernelspec": {
   "display_name": "p312",
   "language": "python",
   "name": "python3"
  },
  "language_info": {
   "codemirror_mode": {
    "name": "ipython",
    "version": 3
   },
   "file_extension": ".py",
   "mimetype": "text/x-python",
   "name": "python",
   "nbconvert_exporter": "python",
   "pygments_lexer": "ipython3",
   "version": "3.12.9"
  }
 },
 "nbformat": 4,
 "nbformat_minor": 4
}
