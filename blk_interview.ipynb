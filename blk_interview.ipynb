{
 "cells": [
  {
   "cell_type": "code",
   "execution_count": 1,
   "metadata": {},
   "outputs": [
    {
     "name": "stdout",
     "output_type": "stream",
     "text": [
      "Python 3.13.2\n"
     ]
    }
   ],
   "source": [
    "!python --version"
   ]
  },
  {
   "cell_type": "code",
   "execution_count": 2,
   "metadata": {},
   "outputs": [],
   "source": [
    "# You have been given an integer array/list(ARR) of size 'N'. It only contains 0s, 1s and 2s. Write a solution to sort this array/list.\n",
    "\n",
    "# Note :\n",
    "# Try to solve the problem in 'Single Scan'. ' Single Scan' refers to iterating over the array/list just once or to put it in other words, you will be visiting each element in the array/list just once."
   ]
  },
  {
   "cell_type": "code",
   "execution_count": 20,
   "metadata": {},
   "outputs": [],
   "source": [
    "def sort012(arr,n):\n",
    "    low, mid, high = 0, 0,n-1\n",
    "    while mid <=high:\n",
    "        if arr[mid] == 0:\n",
    "            arr[low],arr[mid]=arr[mid],arr[low]\n",
    "            low +=1\n",
    "            mid +=1\n",
    "        elif arr[mid] == 1:\n",
    "            mid +=1\n",
    "        else:\n",
    "            arr[mid],arr[high]=arr[high],arr[mid]\n",
    "            high-=1\n",
    "            "
   ]
  },
  {
   "cell_type": "code",
   "execution_count": 21,
   "metadata": {},
   "outputs": [],
   "source": [
    "inp=[0,1,2,2,1,0]\n",
    "sort012(inp,6)"
   ]
  },
  {
   "cell_type": "code",
   "execution_count": 22,
   "metadata": {},
   "outputs": [
    {
     "data": {
      "text/plain": [
       "[0, 0, 1, 1, 2, 2]"
      ]
     },
     "execution_count": 22,
     "metadata": {},
     "output_type": "execute_result"
    }
   ],
   "source": [
    "inp"
   ]
  },
  {
   "cell_type": "code",
   "execution_count": 23,
   "metadata": {},
   "outputs": [],
   "source": [
    "# You are given a Singly Linked List of integers. Return true if it has a cycle, else return false.\n",
    "# A cycle occurs when a node's next points back to a previous node in the list."
   ]
  },
  {
   "cell_type": "code",
   "execution_count": null,
   "metadata": {},
   "outputs": [],
   "source": [
    "class Node:\n",
    "    def __init__(self,data):\n",
    "        self.data = data\n",
    "        self.next = None\n",
    "        \n",
    "def detectCycle(head:Node):\n",
    "    slow , fast = head,head\n",
    "    while fast and fast.next:\n",
    "        slow = slow.next\n",
    "        fast = fast.next.next\n",
    "        if slow == fast:\n",
    "            return True\n",
    "    return False\n",
    "        "
   ]
  },
  {
   "cell_type": "code",
   "execution_count": null,
   "metadata": {},
   "outputs": [],
   "source": [
    "# You have been given a long type array/list 'arr’ of size 'n’.\n",
    "\n",
    "# It represents an elevation map wherein 'arr[i]’ denotes the elevation of the 'ith' bar.\n",
    "\n",
    "# Print the total amount of rainwater that can be trapped in these elevations.\n",
    "# Note :\n",
    "# The width of each bar is the same and is equal to 1.\n",
    "# Example:\n",
    "# Input: ‘n’ = 6, ‘arr’ = [3, 0, 0, 2, 0, 4]."
   ]
  },
  {
   "cell_type": "code",
   "execution_count": 24,
   "metadata": {},
   "outputs": [],
   "source": [
    "from typing import List"
   ]
  },
  {
   "cell_type": "code",
   "execution_count": 41,
   "metadata": {},
   "outputs": [],
   "source": [
    "def getTrappedWater(arr: List[int], n: int) -> int:\n",
    "    if not arr or n <3:\n",
    "        return 0\n",
    "    l, r = 0, n-1\n",
    "    leftmax , rightmax= arr[l],arr[r]\n",
    "    vol = 0\n",
    "    while l < r:\n",
    "        print(f\"l-{l} r-{r} leftmax-{leftmax} rightmax- {rightmax} vol-{vol}\")\n",
    "        if leftmax < rightmax:\n",
    "            l +=1\n",
    "            leftmax = max(leftmax,arr[l])\n",
    "            vol +=max(0, leftmax - arr[l])\n",
    "        else:\n",
    "            r-=1\n",
    "            rightmax = max(rightmax, arr[r])\n",
    "            vol += max(0, rightmax - arr[r])\n",
    "    return vol\n",
    "            \n",
    "    "
   ]
  },
  {
   "cell_type": "code",
   "execution_count": 42,
   "metadata": {},
   "outputs": [
    {
     "name": "stdout",
     "output_type": "stream",
     "text": [
      "l-0 r-5 leftmax-3 rightmax- 4 vol-0\n",
      "l-1 r-5 leftmax-3 rightmax- 4 vol-3\n",
      "l-2 r-5 leftmax-3 rightmax- 4 vol-6\n",
      "l-3 r-5 leftmax-3 rightmax- 4 vol-7\n",
      "l-4 r-5 leftmax-3 rightmax- 4 vol-10\n"
     ]
    },
    {
     "data": {
      "text/plain": [
       "10"
      ]
     },
     "execution_count": 42,
     "metadata": {},
     "output_type": "execute_result"
    }
   ],
   "source": [
    "n = 6\n",
    "arr = [3, 0, 0, 2, 0, 4]\n",
    "getTrappedWater(arr,n)"
   ]
  },
  {
   "cell_type": "code",
   "execution_count": 43,
   "metadata": {},
   "outputs": [],
   "source": [
    "# Fibonacci"
   ]
  },
  {
   "cell_type": "code",
   "execution_count": 44,
   "metadata": {},
   "outputs": [],
   "source": [
    "n = int(input())"
   ]
  },
  {
   "cell_type": "code",
   "execution_count": 45,
   "metadata": {},
   "outputs": [
    {
     "data": {
      "text/plain": [
       "6"
      ]
     },
     "execution_count": 45,
     "metadata": {},
     "output_type": "execute_result"
    }
   ],
   "source": [
    "n"
   ]
  },
  {
   "cell_type": "code",
   "execution_count": 50,
   "metadata": {},
   "outputs": [],
   "source": [
    "def Fibonnaci(n):\n",
    "    if n <=0:\n",
    "        return []\n",
    "    if n==1:\n",
    "        return [1]\n",
    "    if n == 2:\n",
    "        return [1,1]\n",
    "    fib_list = [1,1]\n",
    "    for _ in range(n):\n",
    "        fib_list.append(fib_list[-1]+fib_list[-2])\n",
    "    return fib_list\n",
    "    "
   ]
  },
  {
   "cell_type": "code",
   "execution_count": 52,
   "metadata": {},
   "outputs": [
    {
     "data": {
      "text/plain": [
       "[1]"
      ]
     },
     "execution_count": 52,
     "metadata": {},
     "output_type": "execute_result"
    }
   ],
   "source": [
    "Fibonnaci(1)"
   ]
  },
  {
   "cell_type": "code",
   "execution_count": null,
   "metadata": {},
   "outputs": [],
   "source": [
    "# You have been given a binary matrix of size 'N' * 'M' where each element is either 0 or 1. You are also given a source and a destination cell, both of them lie within the matrix.\n",
    "\n",
    "# Your task is to find the length of the shortest path from the source cell to the destination cell only consisting of 1s. If there is no path from source to destination cell, return -1.b\n"
   ]
  },
  {
   "cell_type": "code",
   "execution_count": null,
   "metadata": {},
   "outputs": [],
   "source": [
    "from collections import deque\n",
    "def findShortestPath(matrix, sourceX, sourceY, destX, destY, n, m):\n",
    "    direction =[(-1,0),(1,0),(0,-1),(0,1)]\n",
    "    src_x,src_y=sourceX,sourceY\n",
    "    des_x,des_y= destX,destY\n",
    "    if(matrix[des_x][des_y]==0):\n",
    "        return -1\n",
    "    queue = deque([(src_x,src_y,1)])\n",
    "    visited = set()\n",
    "    visited.add((src_x,src_y))\n",
    "    \n",
    "    while queue:\n",
    "        x, y , length = queue.popleft()\n",
    "        \n",
    "        if((x,y)==(des_x,des_y)):\n",
    "            return length\n",
    "        \n",
    "        for dx,dy in direction:\n",
    "            new_x,new_y=x+dx,y+dy\n",
    "            if((0<=new_x<n and 0<=new_y<m ) and matrix[new_x][new_y]==1 and (new_x,new_y) not in visited):\n",
    "                queue.append((new_x,new_y,length+1))\n",
    "                visited.add((new_x,new_y))\n",
    "    return -1\n"
   ]
  },
  {
   "cell_type": "code",
   "execution_count": 56,
   "metadata": {},
   "outputs": [],
   "source": [
    "matrix = [\n",
    "    [1, 0, 1, 1],\n",
    "    [1, 1, 0, 1],\n",
    "    [0, 1, 1, 1],\n",
    "    [1, 0, 1, 1]\n",
    "]"
   ]
  },
  {
   "cell_type": "code",
   "execution_count": null,
   "metadata": {},
   "outputs": [],
   "source": [
    "findShortestPath()"
   ]
  },
  {
   "cell_type": "code",
   "execution_count": 59,
   "metadata": {},
   "outputs": [],
   "source": [
    "n= 10**5"
   ]
  },
  {
   "cell_type": "code",
   "execution_count": 60,
   "metadata": {},
   "outputs": [
    {
     "data": {
      "text/plain": [
       "100000"
      ]
     },
     "execution_count": 60,
     "metadata": {},
     "output_type": "execute_result"
    }
   ],
   "source": [
    "n"
   ]
  },
  {
   "cell_type": "code",
   "execution_count": 65,
   "metadata": {},
   "outputs": [],
   "source": [
    "# for i in range(1,n):\n",
    "#     # print(i,sep=\" \")"
   ]
  },
  {
   "cell_type": "code",
   "execution_count": 74,
   "metadata": {},
   "outputs": [],
   "source": [
    "from collections import deque\n",
    "class Node:\n",
    "    def __init__(self, data):\n",
    "\n",
    "        self.data = data\n",
    "        self.next = None\n",
    "    "
   ]
  },
  {
   "cell_type": "code",
   "execution_count": 75,
   "metadata": {},
   "outputs": [],
   "source": [
    "def rearrangeList(head):\n",
    "    if not head or not head.next or not head.next.next:\n",
    "        return head  # No reordering needed\n",
    "\n",
    "    # Step 1: Find the Middle Node\n",
    "    slow, fast = head, head\n",
    "    while fast and fast.next:\n",
    "        slow = slow.next\n",
    "        fast = fast.next.next\n",
    "\n",
    "    # Step 2: Reverse the Second Half\n",
    "    prev, curr = None, slow.next\n",
    "    slow.next = None  # Break into two halves\n",
    "    while curr:\n",
    "        next_node = curr.next\n",
    "        curr.next = prev\n",
    "        prev = curr\n",
    "        curr = next_node\n",
    "    second_half = prev  # New head of reversed half\n",
    "\n",
    "    # Step 3: Merge the Two Halves and Update Head\n",
    "    head = mergeLists(head, second_half)\n",
    "    return head  # Return the updated head reference\n",
    "\n",
    "def mergeLists(first_half, second_half):\n",
    "    \"\"\" Merge two linked lists in L1 -> Ln -> L2 -> Ln-1 order \"\"\"\n",
    "    dummy = Node(0)  # Temporary dummy node to track new head\n",
    "    new_head = dummy\n",
    "    while first_half and second_half:\n",
    "        temp1, temp2 = first_half.next, second_half.next\n",
    "        new_head.next = first_half  # Link first_half -> second_half\n",
    "        first_half.next = second_half  # Merge second_half into first_half\n",
    "        new_head = second_half  # Move pointer\n",
    "        first_half, second_half = temp1, temp2  # Move pointers forward\n",
    "    if first_half:\n",
    "        new_head.next = first_half  # Attach remaining nodes\n",
    "    return dummy.next  # Return the new head"
   ]
  },
  {
   "cell_type": "code",
   "execution_count": null,
   "metadata": {},
   "outputs": [
    {
     "ename": "TypeError",
     "evalue": "ListNode.__init__() takes 2 positional arguments but 3 were given",
     "output_type": "error",
     "traceback": [
      "\u001b[1;31m---------------------------------------------------------------------------\u001b[0m",
      "\u001b[1;31mTypeError\u001b[0m                                 Traceback (most recent call last)",
      "Cell \u001b[1;32mIn[72], line 1\u001b[0m\n\u001b[1;32m----> 1\u001b[0m head \u001b[38;5;241m=\u001b[39m ListNode(\u001b[38;5;241m1\u001b[39m, ListNode(\u001b[38;5;241m2\u001b[39m, ListNode(\u001b[38;5;241m3\u001b[39m, \u001b[43mListNode\u001b[49m\u001b[43m(\u001b[49m\u001b[38;5;241;43m4\u001b[39;49m\u001b[43m,\u001b[49m\u001b[43m \u001b[49m\u001b[43mListNode\u001b[49m\u001b[43m(\u001b[49m\u001b[38;5;241;43m5\u001b[39;49m\u001b[43m)\u001b[49m\u001b[43m)\u001b[49m)))\n",
      "\u001b[1;31mTypeError\u001b[0m: ListNode.__init__() takes 2 positional arguments but 3 were given"
     ]
    }
   ],
   "source": [
    "# head = ListNode(1, ListNode(2, ListNode(3, ListNode(4, ListNode(5)))))\n"
   ]
  },
  {
   "cell_type": "code",
   "execution_count": null,
   "metadata": {},
   "outputs": [],
   "source": [
    "# level order transversal\n",
    "def getLevelOrder(root):\n",
    "\n",
    "    q = deque([root]) \n",
    "    res=[]\n",
    "    if not root  or root.val == -1:\n",
    "        return res\n",
    "    while q:\n",
    "        node =q.popleft()\n",
    "        if node.val != -1:\n",
    "            res.append(node.val)\n",
    "            # print(node.val, end=\" \") \n",
    "        if node.left:\n",
    "            q.append(node.left)  # Add left child if exists\n",
    "        if node.right:\n",
    "            q.append(node.right)\n",
    "    return res"
   ]
  },
  {
   "cell_type": "code",
   "execution_count": null,
   "metadata": {},
   "outputs": [],
   "source": []
  }
 ],
 "metadata": {
  "kernelspec": {
   "display_name": "env312",
   "language": "python",
   "name": "python3"
  },
  "language_info": {
   "codemirror_mode": {
    "name": "ipython",
    "version": 3
   },
   "file_extension": ".py",
   "mimetype": "text/x-python",
   "name": "python",
   "nbconvert_exporter": "python",
   "pygments_lexer": "ipython3",
   "version": "3.13.2"
  }
 },
 "nbformat": 4,
 "nbformat_minor": 2
}
