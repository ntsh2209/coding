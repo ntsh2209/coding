{
 "cells": [
  {
   "cell_type": "code",
   "execution_count": 3,
   "metadata": {},
   "outputs": [],
   "source": [
    "import networkx as nx"
   ]
  },
  {
   "cell_type": "code",
   "execution_count": 4,
   "metadata": {},
   "outputs": [],
   "source": [
    "# !pip install networkx"
   ]
  },
  {
   "cell_type": "code",
   "execution_count": 5,
   "metadata": {},
   "outputs": [],
   "source": [
    "G = nx.DiGraph()\n",
    "G.add_edges_from([(\"A\", \"B\"), (\"B\", \"C\"), (\"D\", \"B\")])\n",
    "\n",
    "# Compute indegree for each node\n",
    "indegree_values = G.in_degree()"
   ]
  },
  {
   "cell_type": "code",
   "execution_count": 6,
   "metadata": {},
   "outputs": [
    {
     "name": "stdout",
     "output_type": "stream",
     "text": [
      "Node A has indegree 0\n",
      "Node B has indegree 2\n",
      "Node C has indegree 1\n",
      "Node D has indegree 0\n"
     ]
    }
   ],
   "source": [
    "for node, indeg in indegree_values:\n",
    "    print(f\"Node {node} has indegree {indeg}\")"
   ]
  },
  {
   "cell_type": "code",
   "execution_count": 7,
   "metadata": {},
   "outputs": [],
   "source": [
    "# graph"
   ]
  },
  {
   "cell_type": "code",
   "execution_count": 8,
   "metadata": {},
   "outputs": [],
   "source": [
    "graph = {\n",
    "    \"A\":[\"B\",\"C\"],\n",
    "    \"B\":[\"A\",\"D\"],\n",
    "    \"C\":[\"A\",\"D\"],\n",
    "    \"D\":[\"B\",\"C\"],\n",
    "}"
   ]
  },
  {
   "cell_type": "code",
   "execution_count": 9,
   "metadata": {},
   "outputs": [
    {
     "data": {
      "text/plain": [
       "{'A': ['B', 'C'], 'B': ['A', 'D'], 'C': ['A', 'D'], 'D': ['B', 'C']}"
      ]
     },
     "execution_count": 9,
     "metadata": {},
     "output_type": "execute_result"
    }
   ],
   "source": [
    "graph"
   ]
  },
  {
   "cell_type": "code",
   "execution_count": 10,
   "metadata": {},
   "outputs": [],
   "source": [
    "graph = {\n",
    "    \"A\": [\"B\", \"C\"],\n",
    "    \"B\": [\"A\", \"D\", \"E\"],\n",
    "    \"C\": [\"A\"],\n",
    "    \"D\": [\"B\"],\n",
    "    \"E\": [\"B\"]\n",
    "}"
   ]
  },
  {
   "cell_type": "code",
   "execution_count": 11,
   "metadata": {},
   "outputs": [],
   "source": [
    "# implementing DFS "
   ]
  },
  {
   "cell_type": "code",
   "execution_count": 12,
   "metadata": {},
   "outputs": [],
   "source": [
    "def dfs(graph, node, visited):\n",
    "    if node not in visited:\n",
    "        print(node, end=\" \")\n",
    "        visited.add(node)\n",
    "        for neighbor in graph[node]:\n",
    "            dfs(graph, neighbor, visited)\n",
    "\n",
    "                    "
   ]
  },
  {
   "cell_type": "code",
   "execution_count": 13,
   "metadata": {},
   "outputs": [
    {
     "name": "stdout",
     "output_type": "stream",
     "text": [
      "DFS Traversal: A B D E C "
     ]
    }
   ],
   "source": [
    "visited = set()\n",
    "print(\"DFS Traversal:\", end= \" \")\n",
    "dfs(graph, \"A\", visited)"
   ]
  },
  {
   "cell_type": "code",
   "execution_count": 14,
   "metadata": {},
   "outputs": [],
   "source": [
    "def dfs_iterative(graph, start):\n",
    "    stack = [start]\n",
    "    visited = set()\n",
    "    while stack:\n",
    "        node = stack.pop()\n",
    "        if node not in visited:\n",
    "            print(node, end= \" \")\n",
    "            visited.add(node)\n",
    "            stack.extend(graph[node])"
   ]
  },
  {
   "cell_type": "code",
   "execution_count": 15,
   "metadata": {},
   "outputs": [
    {
     "name": "stdout",
     "output_type": "stream",
     "text": [
      "A C B E D "
     ]
    }
   ],
   "source": [
    "dfs_iterative(graph, \"A\")"
   ]
  },
  {
   "cell_type": "code",
   "execution_count": 16,
   "metadata": {},
   "outputs": [],
   "source": [
    "# BFS"
   ]
  },
  {
   "cell_type": "code",
   "execution_count": 17,
   "metadata": {},
   "outputs": [],
   "source": [
    "graph = {\n",
    "    \"A\": [\"B\", \"C\"],\n",
    "    \"B\": [\"A\", \"D\", \"E\"],\n",
    "    \"C\": [\"A\"],\n",
    "    \"D\": [\"B\"],\n",
    "    \"E\": [\"B\"]\n",
    "}"
   ]
  },
  {
   "cell_type": "code",
   "execution_count": 18,
   "metadata": {},
   "outputs": [],
   "source": [
    "from collections import deque\n",
    "\n",
    "def bfs(graph, start):\n",
    "    queue = deque([start])\n",
    "    visited = set([start])\n",
    "    \n",
    "    while queue:\n",
    "        node = queue.popleft()\n",
    "        print(node, end= \" \")\n",
    "        \n",
    "        for neighbor in graph[node]:\n",
    "            if neighbor not in visited:\n",
    "                visited.add(neighbor)\n",
    "                queue.append(neighbor)"
   ]
  },
  {
   "cell_type": "code",
   "execution_count": 19,
   "metadata": {},
   "outputs": [
    {
     "name": "stdout",
     "output_type": "stream",
     "text": [
      "BFS Traversal: A B C D E "
     ]
    }
   ],
   "source": [
    "print(\"BFS Traversal:\", end=\" \")\n",
    "bfs(graph,\"A\")"
   ]
  },
  {
   "cell_type": "code",
   "execution_count": 20,
   "metadata": {},
   "outputs": [],
   "source": [
    "# cycle detection"
   ]
  },
  {
   "cell_type": "code",
   "execution_count": 21,
   "metadata": {},
   "outputs": [
    {
     "name": "stdout",
     "output_type": "stream",
     "text": [
      "Cycle Detected:\n"
     ]
    }
   ],
   "source": [
    "def has_cycle(graph, node, visited, parent):\n",
    "    visited.add(node)\n",
    "    for neighbor in graph[node]:\n",
    "        if neighbor not in visited:\n",
    "            if has_cycle(graph, neighbor, visited, node):  # Recursive call\n",
    "                return True\n",
    "        elif neighbor != parent:  # Found a back edge (cycle)\n",
    "            return True\n",
    "    return False\n",
    "\n",
    "graph = {\n",
    "    \"A\": [\"B\", \"C\"],\n",
    "    \"B\": [\"A\", \"D\", \"E\"],\n",
    "    \"C\": [\"A\"],\n",
    "    \"D\": [\"B\"],\n",
    "    \"E\": [\"B\", \"D\"]  # Adding edge (E-D) creates a cycle\n",
    "}\n",
    "\n",
    "visited = set()\n",
    "print(\"Cycle Detected:\" if has_cycle(graph, \"A\", visited, None) else \"No Cycle\")\n"
   ]
  },
  {
   "cell_type": "code",
   "execution_count": 22,
   "metadata": {},
   "outputs": [],
   "source": [
    "# shortest path"
   ]
  },
  {
   "cell_type": "code",
   "execution_count": 23,
   "metadata": {},
   "outputs": [
    {
     "name": "stdout",
     "output_type": "stream",
     "text": [
      "Shortest Path from A to E: ['A', 'B', 'E']\n"
     ]
    }
   ],
   "source": [
    "def shortest_path(graph, start, target):\n",
    "    queue = deque([(start, [start])])  # Queue holds (current_node, path)\n",
    "    visited = set()\n",
    "\n",
    "    while queue:\n",
    "        node, path = queue.popleft()  # Process node\n",
    "        if node == target:\n",
    "            return path  # Found shortest path\n",
    "\n",
    "        if node not in visited:\n",
    "            visited.add(node)\n",
    "            for neighbor in graph[node]:\n",
    "                queue.append((neighbor, path + [neighbor]))  # Extend path\n",
    "\n",
    "graph = {\n",
    "    \"A\": [\"B\", \"C\"],\n",
    "    \"B\": [\"A\", \"D\", \"E\"],\n",
    "    \"C\": [\"A\"],\n",
    "    \"D\": [\"B\"],\n",
    "    \"E\": [\"B\"]\n",
    "}\n",
    "\n",
    "print(\"Shortest Path from A to E:\", shortest_path(graph, \"A\", \"E\"))\n"
   ]
  },
  {
   "cell_type": "code",
   "execution_count": 24,
   "metadata": {},
   "outputs": [],
   "source": [
    "# Topological Sorting"
   ]
  },
  {
   "cell_type": "code",
   "execution_count": 25,
   "metadata": {},
   "outputs": [
    {
     "name": "stdout",
     "output_type": "stream",
     "text": [
      "Topological Order: ['B', 'D', 'A', 'C', 'E', 'F', 'G', 'H']\n"
     ]
    }
   ],
   "source": [
    "def topological_sort(graph):\n",
    "    visited = set()\n",
    "    stack = []\n",
    "\n",
    "    def dfs(node):\n",
    "        if node not in visited:\n",
    "            visited.add(node)\n",
    "            for neighbor in graph.get(node, []):\n",
    "                dfs(neighbor)\n",
    "            stack.append(node)\n",
    "\n",
    "    for node in graph:\n",
    "        dfs(node)\n",
    "\n",
    "    return stack[::-1]  # Reverse to get correct order\n",
    "\n",
    "graph = {\n",
    "    \"A\": [\"C\"],\n",
    "    \"B\": [\"C\", \"D\"],\n",
    "    \"C\": [\"E\"],\n",
    "    \"D\": [\"F\"],\n",
    "    \"E\": [\"H\", \"F\"],\n",
    "    \"F\": [\"G\"],\n",
    "    \"G\": [],\n",
    "    \"H\": []\n",
    "}\n",
    "\n",
    "print(\"Topological Order:\", topological_sort(graph))\n"
   ]
  },
  {
   "cell_type": "code",
   "execution_count": null,
   "metadata": {},
   "outputs": [],
   "source": []
  }
 ],
 "metadata": {
  "kernelspec": {
   "display_name": "env312",
   "language": "python",
   "name": "python3"
  },
  "language_info": {
   "codemirror_mode": {
    "name": "ipython",
    "version": 3
   },
   "file_extension": ".py",
   "mimetype": "text/x-python",
   "name": "python",
   "nbconvert_exporter": "python",
   "pygments_lexer": "ipython3",
   "version": "3.13.2"
  }
 },
 "nbformat": 4,
 "nbformat_minor": 2
}
