{
 "cells": [
  {
   "cell_type": "code",
   "execution_count": 2,
   "metadata": {},
   "outputs": [],
   "source": [
    "# !pip install dash dash-bootstrap-components pandas\n"
   ]
  },
  {
   "cell_type": "code",
   "execution_count": 4,
   "metadata": {},
   "outputs": [
    {
     "data": {
      "text/html": [
       "\n",
       "        <iframe\n",
       "            width=\"100%\"\n",
       "            height=\"650\"\n",
       "            src=\"http://127.0.0.1:8050/\"\n",
       "            frameborder=\"0\"\n",
       "            allowfullscreen\n",
       "            \n",
       "        ></iframe>\n",
       "        "
      ],
      "text/plain": [
       "<IPython.lib.display.IFrame at 0x205da99e3c0>"
      ]
     },
     "metadata": {},
     "output_type": "display_data"
    }
   ],
   "source": [
    "import dash\n",
    "from dash import dcc, html, dash_table\n",
    "import pandas as pd\n",
    "\n",
    "app = dash.Dash(__name__)\n",
    "\n",
    "# Sample DataFrame\n",
    "df = pd.DataFrame({\n",
    "    \"Stock\": [\"AAPL\", \"GOOGL\", \"MSFT\"],\n",
    "    \"Daily Price\": [150, 2800, 300],\n",
    "    \"Volatility\": [1.2, 1.8, 1.5],\n",
    "    \"Volume\": [5000000, 3000000, 4000000]\n",
    "})\n",
    "\n",
    "app.layout = html.Div([\n",
    "    dash_table.DataTable(\n",
    "        columns=[{\"name\": col, \"id\": col} for col in df.columns],\n",
    "        data=df.to_dict(\"records\"),\n",
    "        style_table={'overflowX': 'auto'},\n",
    "        sort_action=\"native\",\n",
    "        filter_action=\"native\"\n",
    "    )\n",
    "])\n",
    "\n",
    "if __name__ == '__main__':\n",
    "    app.run(debug=True)\n"
   ]
  },
  {
   "cell_type": "code",
   "execution_count": 2,
   "metadata": {},
   "outputs": [],
   "source": [
    "# !pip install streamlit \n"
   ]
  },
  {
   "cell_type": "code",
   "execution_count": 3,
   "metadata": {},
   "outputs": [
    {
     "name": "stderr",
     "output_type": "stream",
     "text": [
      "2025-03-23 22:41:27.266 WARNING streamlit.runtime.scriptrunner_utils.script_run_context: Thread 'MainThread': missing ScriptRunContext! This warning can be ignored when running in bare mode.\n",
      "2025-03-23 22:41:27.734 \n",
      "  \u001b[33m\u001b[1mWarning:\u001b[0m to view this Streamlit app on a browser, run it with the following\n",
      "  command:\n",
      "\n",
      "    streamlit run c:\\Users\\Administrator\\miniconda3\\envs\\env312\\Lib\\site-packages\\ipykernel_launcher.py [ARGUMENTS]\n",
      "2025-03-23 22:41:27.734 Thread 'MainThread': missing ScriptRunContext! This warning can be ignored when running in bare mode.\n",
      "2025-03-23 22:41:27.735 Thread 'MainThread': missing ScriptRunContext! This warning can be ignored when running in bare mode.\n",
      "2025-03-23 22:41:27.736 Thread 'MainThread': missing ScriptRunContext! This warning can be ignored when running in bare mode.\n",
      "2025-03-23 22:41:27.743 Thread 'MainThread': missing ScriptRunContext! This warning can be ignored when running in bare mode.\n",
      "2025-03-23 22:41:27.743 Thread 'MainThread': missing ScriptRunContext! This warning can be ignored when running in bare mode.\n"
     ]
    },
    {
     "data": {
      "text/plain": [
       "DeltaGenerator()"
      ]
     },
     "execution_count": 3,
     "metadata": {},
     "output_type": "execute_result"
    }
   ],
   "source": [
    "import streamlit as st\n",
    "import pandas as pd\n",
    "\n",
    "df = pd.DataFrame({\n",
    "    \"Stock\": [\"AAPL\", \"GOOGL\", \"MSFT\"],\n",
    "    \"Daily Price\": [150, 2800, 300],\n",
    "    \"Volatility\": [1.2, 1.8, 1.5],\n",
    "    \"Volume\": [5000000, 3000000, 4000000]\n",
    "})\n",
    "\n",
    "st.write(\"### Stock Data Table\")\n",
    "st.dataframe(df)  # Interactive table\n"
   ]
  },
  {
   "cell_type": "code",
   "execution_count": 6,
   "metadata": {},
   "outputs": [],
   "source": [
    "# !pip install flask"
   ]
  },
  {
   "cell_type": "code",
   "execution_count": null,
   "metadata": {},
   "outputs": [
    {
     "name": "stdout",
     "output_type": "stream",
     "text": [
      " * Serving Flask app '__main__'\n",
      " * Debug mode: on\n"
     ]
    },
    {
     "name": "stderr",
     "output_type": "stream",
     "text": [
      "WARNING: This is a development server. Do not use it in a production deployment. Use a production WSGI server instead.\n",
      " * Running on http://127.0.0.1:5000\n",
      "Press CTRL+C to quit\n",
      " * Restarting with watchdog (windowsapi)\n"
     ]
    },
    {
     "ename": "SystemExit",
     "evalue": "1",
     "output_type": "error",
     "traceback": [
      "An exception has occurred, use %tb to see the full traceback.\n",
      "\u001b[1;31mSystemExit\u001b[0m\u001b[1;31m:\u001b[0m 1\n"
     ]
    }
   ],
   "source": [
    "from flaskeg import Flask, render_template_string\n",
    "import pandas as pd\n",
    "\n",
    "app = Flask(__name__)\n",
    "\n",
    "df = pd.DataFrame({\n",
    "    \"Stock\": [\"AAPL\", \"GOOGL\", \"MSFT\"],\n",
    "    \"Daily Price\": [150, 2800, 300],\n",
    "    \"Volatility\": [1.2, 1.8, 1.5],\n",
    "    \"Volume\": [5000000, 3000000, 4000000]\n",
    "})\n",
    "\n",
    "@app.route(\"/\")\n",
    "def home():\n",
    "    return render_template_string(\"\"\"\n",
    "    <html>\n",
    "    <head>\n",
    "        <link rel=\"stylesheet\" \n",
    "              href=\"https://cdn.datatables.net/1.10.21/css/jquery.dataTables.min.css\">\n",
    "    </head>\n",
    "    <body>\n",
    "        <table id=\"stock_table\" class=\"display\">\n",
    "            <thead>\n",
    "                <tr>{{ df.columns.to_list() | join('</th><th>') }}</th></tr>\n",
    "            </thead>\n",
    "            <tbody>\n",
    "                {% for row in df.values.tolist() %}\n",
    "                    <tr>{{ row | join('</td><td>') }}</td></tr>\n",
    "                {% endfor %}\n",
    "            </tbody>\n",
    "        </table>\n",
    "        <script src=\"https://code.jquery.com/jquery-3.5.1.js\"></script>\n",
    "        <script src=\"https://cdn.datatables.net/1.10.21/js/jquery.dataTables.min.js\"></script>\n",
    "        <script>\n",
    "            $(document).ready(function() {\n",
    "                $('#stock_table').DataTable();\n",
    "            });\n",
    "        </script>\n",
    "    </body>\n",
    "    </html>\n",
    "    \"\"\", df=df)\n",
    "\n",
    "if __name__ == \"__main__\":\n",
    "    app.run(debug=True)\n"
   ]
  },
  {
   "cell_type": "code",
   "execution_count": null,
   "metadata": {},
   "outputs": [
    {
     "name": "stdout",
     "output_type": "stream",
     "text": [
      "Requirement already satisfied: jinja2 in c:\\users\\administrator\\miniconda3\\envs\\env312\\lib\\site-packages (3.1.6)\n",
      "Requirement already satisfied: MarkupSafe>=2.0 in c:\\users\\administrator\\miniconda3\\envs\\env312\\lib\\site-packages (from jinja2) (3.0.2)\n"
     ]
    }
   ],
   "source": [
    "# !pip install jinja2\n"
   ]
  },
  {
   "cell_type": "code",
   "execution_count": 11,
   "metadata": {},
   "outputs": [
    {
     "name": "stdout",
     "output_type": "stream",
     "text": [
      "❌ Error: (535, b'5.7.8 Username and Password not accepted. For more information, go to\\n5.7.8  https://support.google.com/mail/?p=BadCredentials d2e1a72fcca58-73905fd5639sm6319124b3a.53 - gsmtp')\n"
     ]
    }
   ],
   "source": [
    "import pandas as pd\n",
    "import smtplib\n",
    "from email.mime.multipart import MIMEMultipart\n",
    "from email.mime.text import MIMEText\n",
    "from jinja2 import Template\n",
    "\n",
    "def generate_html_table(df, columns=None):\n",
    "    \"\"\"\n",
    "    Generates an HTML table dynamically using Jinja2.\n",
    "    \n",
    "    :param df: Pandas DataFrame.\n",
    "    :param columns: List of columns to include (if None, use all).\n",
    "    :return: Rendered HTML string.\n",
    "    \"\"\"\n",
    "    if columns:\n",
    "        df = df[columns]\n",
    "\n",
    "    # Define Jinja2 HTML template\n",
    "    template = Template(\"\"\"\n",
    "    <html>\n",
    "    <head>\n",
    "        <style>\n",
    "            table {width: 100%%; border-collapse: collapse; font-family: Arial, sans-serif;}\n",
    "            th, td {border: 1px solid #ddd; padding: 8px; text-align: left;}\n",
    "            th {background-color: #4CAF50; color: white;}\n",
    "            tr:nth-child(even) {background-color: #f2f2f2;}\n",
    "        </style>\n",
    "    </head>\n",
    "    <body>\n",
    "        <table>\n",
    "            <thead>\n",
    "                <tr>\n",
    "                    {% for col in df.columns %}\n",
    "                        <th>{{ col }}</th>\n",
    "                    {% endfor %}\n",
    "                </tr>\n",
    "            </thead>\n",
    "            <tbody>\n",
    "                {% for row in df.itertuples(index=False) %}\n",
    "                    <tr>\n",
    "                        {% for cell in row %}\n",
    "                            <td>{{ cell }}</td>\n",
    "                        {% endfor %}\n",
    "                    </tr>\n",
    "                {% endfor %}\n",
    "            </tbody>\n",
    "        </table>\n",
    "    </body>\n",
    "    </html>\n",
    "    \"\"\")\n",
    "\n",
    "    return template.render(df=df)\n",
    "\n",
    "def send_email(html_content, subject, recipient_email, sender_email, sender_password):\n",
    "    \"\"\"\n",
    "    Sends an HTML email using SMTP.\n",
    "    \n",
    "    :param html_content: HTML content for email body.\n",
    "    :param subject: Email subject.\n",
    "    :param recipient_email: Recipient's email address.\n",
    "    :param sender_email: Sender's email.\n",
    "    :param sender_password: Sender's email password.\n",
    "    \"\"\"\n",
    "    msg = MIMEMultipart()\n",
    "    msg[\"From\"] = sender_email\n",
    "    msg[\"To\"] = recipient_email\n",
    "    msg[\"Subject\"] = subject\n",
    "    msg.attach(MIMEText(html_content, \"html\"))\n",
    "\n",
    "    try:\n",
    "        with smtplib.SMTP(\"smtp.gmail.com\", 587) as server:\n",
    "            server.starttls()\n",
    "            server.login(sender_email, sender_password)\n",
    "            server.sendmail(sender_email, recipient_email, msg.as_string())\n",
    "        print(\"✅ Email sent successfully!\")\n",
    "    except Exception as e:\n",
    "        print(f\"❌ Error: {e}\")\n",
    "\n",
    "# Sample DataFrame\n",
    "data = {\n",
    "    \"Stock\": [\"AAPL\", \"GOOGL\", \"MSFT\"],\n",
    "    \"Daily Price\": [150, 2800, 300],\n",
    "    \"Volatility\": [1.2, 1.8, 1.5],\n",
    "    \"Volume\": [5000000, 3000000, 4000000],\n",
    "    \"Average Volume\": [4800000, 2900000, 3900000]\n",
    "}\n",
    "df = pd.DataFrame(data)\n",
    "\n",
    "# Dynamic column selection\n",
    "selected_columns = [\"Stock\", \"Daily Price\", \"Volume\"]\n",
    "\n",
    "# Generate HTML email content\n",
    "html_table = generate_html_table(df, columns=selected_columns)\n",
    "\n",
    "# Email details\n",
    "sender_email = \"nitesh.nitt@live.com\"  \n",
    "sender_password = \"your_password\"  # Use App Passwords for Gmail\n",
    "recipient_email = \"nitesh.nitt@live.com\"\n",
    "\n",
    "# Send email\n",
    "send_email(html_table, \"📈 Stock Market Data\", recipient_email, sender_email, sender_password)\n"
   ]
  },
  {
   "cell_type": "code",
   "execution_count": null,
   "metadata": {},
   "outputs": [],
   "source": []
  }
 ],
 "metadata": {
  "kernelspec": {
   "display_name": "env312",
   "language": "python",
   "name": "python3"
  },
  "language_info": {
   "codemirror_mode": {
    "name": "ipython",
    "version": 3
   },
   "file_extension": ".py",
   "mimetype": "text/x-python",
   "name": "python",
   "nbconvert_exporter": "python",
   "pygments_lexer": "ipython3",
   "version": "3.13.2"
  }
 },
 "nbformat": 4,
 "nbformat_minor": 2
}
